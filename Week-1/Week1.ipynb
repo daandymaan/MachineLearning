{
 "metadata": {
  "language_info": {
   "codemirror_mode": {
    "name": "ipython",
    "version": 3
   },
   "file_extension": ".py",
   "mimetype": "text/x-python",
   "name": "python",
   "nbconvert_exporter": "python",
   "pygments_lexer": "ipython3",
   "version": "3.8.5"
  },
  "orig_nbformat": 2,
  "kernelspec": {
   "name": "python385jvsc74a57bd0feef8a80f5a753422e71614ef2cdc4c0b953fbc919614913f4f1f452f4c7627f",
   "display_name": "Python 3.8.5 64-bit ('sanie': virtualenv)"
  }
 },
 "nbformat": 4,
 "nbformat_minor": 2,
 "cells": [
  {
   "source": [
    "# Week1 work \n",
    "\n",
    "This weeks work will just be a slight introduction into Juptyer and how some python operators work \n",
    "\n",
    "Below is an example of a print statement \n",
    "\n",
    "Fill in the phrase \"Hello World!\" into the brackets and quotation marks \n",
    "\n",
    "After you've filled it in press the green play button to execute the code \n",
    "\n",
    "And that's that you've just run your first python code "
   ],
   "cell_type": "markdown",
   "metadata": {}
  },
  {
   "cell_type": "code",
   "execution_count": 2,
   "metadata": {},
   "outputs": [
    {
     "output_type": "stream",
     "name": "stdout",
     "text": [
      "\n"
     ]
    }
   ],
   "source": [
    "print(\"\")"
   ]
  },
  {
   "source": [
    "Next lets implement some variables, as mentioned before variables are used to store values and can be done dynamically \n",
    "\n",
    "Try entering a few different values for variable and then executing the code \n",
    "\n"
   ],
   "cell_type": "markdown",
   "metadata": {}
  },
  {
   "cell_type": "code",
   "execution_count": 8,
   "metadata": {},
   "outputs": [
    {
     "output_type": "stream",
     "name": "stdout",
     "text": [
      "StringVariable\n1\nThis is a String variable StringVariable\nThis is an int variable 1\nThese are both values : StringVariable 1\n"
     ]
    }
   ],
   "source": [
    "stringVariable = \"StringVariable\"\n",
    "intVariable = 1\n",
    "\n",
    "print(stringVariable)\n",
    "print(intVariable)\n",
    "print(\"This is a String variable \" + stringVariable)\n",
    "print(\"This is an int variable\", intVariable)\n",
    "print(\"These are both values :\", stringVariable, intVariable)\n"
   ]
  },
  {
   "source": [
    "Next we'll have a look at some of the operators you can use in Python \n",
    "Most of these have the same meaning as normal\n",
    "\n",
    "+ +: add numbers together or join strings together \n",
    "+ -: minus numbers  \n",
    "+ /: divide numbers\n",
    "+ *: multiply numbers \n"
   ],
   "cell_type": "markdown",
   "metadata": {}
  },
  {
   "cell_type": "code",
   "execution_count": 12,
   "metadata": {},
   "outputs": [
    {
     "output_type": "stream",
     "name": "stdout",
     "text": [
      "ADDING: 15\nSUBTRACTING: -5\nDIVIDING: 0.5\nMULTIPLYING: 50\n"
     ]
    }
   ],
   "source": [
    "num1 = 5\n",
    "num2 = 10\n",
    "\n",
    "total = num1 + num2\n",
    "print(\"ADDING:\" , total)\n",
    "total = num1 - num2\n",
    "print(\"SUBTRACTING:\" , total)\n",
    "total = num1 / num2\n",
    "print(\"DIVIDING:\" , total)\n",
    "total = num1 * num2\n",
    "print(\"MULTIPLYING:\" , total)\n"
   ]
  },
  {
   "source": [
    "There are also some other useful operators \n",
    "+ %: modulus \n",
    "+ **: exponentiation \n",
    "+ //: floor division"
   ],
   "cell_type": "markdown",
   "metadata": {}
  },
  {
   "cell_type": "code",
   "execution_count": 13,
   "metadata": {},
   "outputs": [
    {
     "output_type": "stream",
     "name": "stdout",
     "text": [
      "ADDING: 0\nSUBTRACTING: 100000\nDIVIDING: 2\n"
     ]
    }
   ],
   "source": [
    "num1 = 5\n",
    "num2 = 10\n",
    "\n",
    "total = num2 % num1\n",
    "print(\"Modulus:\" , total)\n",
    "total = num2 ** num1\n",
    "print(\"To the power of:\" , total)\n",
    "total = num2 // num1\n",
    "print(\"Floor division:\" , total)"
   ]
  },
  {
   "source": [
    "Python also has a feature where you can both assign and use an operator with one command \n",
    "\n",
    "This is the use of the equals (=) with an operator (=-/*%**//)\n",
    "\n",
    "This is shown below "
   ],
   "cell_type": "markdown",
   "metadata": {}
  },
  {
   "cell_type": "code",
   "execution_count": 27,
   "metadata": {},
   "outputs": [
    {
     "output_type": "stream",
     "name": "stdout",
     "text": [
      "total += 10 =  10\ntotal -= 1 =  9\ntotal *= 2 =  18\ntotal /= 2 =  9.0\ntotal %= 5 =  4.0\ntotal **= 2 =  16.0\ntotal //= 2 =  8.0\n"
     ]
    }
   ],
   "source": [
    "total = 0\n",
    "\n",
    "#Same as total = total + 3\n",
    "total += 10 \n",
    "print(\"total += 10 = \", total)\n",
    "\n",
    "#Same as total = total - 1\n",
    "total -= 1 \n",
    "print(\"total -= 1 = \", total)\n",
    "\n",
    "#Same as total = total * 2\n",
    "total *= 2\n",
    "print(\"total *= 2 = \", total)\n",
    "\n",
    "#Same as total = total / 2\n",
    "total /= 2\n",
    "print(\"total /= 2 = \", total)\n",
    "\n",
    "#Same as total = total % 2\n",
    "total %= 5\n",
    "print(\"total %= 5 = \", total)\n",
    "\n",
    "#Same as total = total ** 2\n",
    "total **= 2\n",
    "print(\"total **= 2 = \", total)\n",
    "\n",
    "#Same as total = total // 2\n",
    "total //= 2\n",
    "print(\"total //= 2 = \", total)"
   ]
  },
  {
   "source": [
    "# Exercise \n",
    "Write a small program which calculates the average of 5 numbers num1, num2, num3, num4, num5\n",
    "\n",
    "The values of the numbers can be of any size \n",
    "\n",
    "Print the result to the screen "
   ],
   "cell_type": "markdown",
   "metadata": {}
  },
  {
   "cell_type": "code",
   "execution_count": null,
   "metadata": {},
   "outputs": [],
   "source": [
    "#Write code here "
   ]
  }
 ]
}