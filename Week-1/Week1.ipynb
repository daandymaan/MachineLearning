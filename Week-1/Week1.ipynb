{
 "metadata": {
  "language_info": {
   "codemirror_mode": {
    "name": "ipython",
    "version": 3
   },
   "file_extension": ".py",
   "mimetype": "text/x-python",
   "name": "python",
   "nbconvert_exporter": "python",
   "pygments_lexer": "ipython3",
   "version": "3.8.8"
  },
  "orig_nbformat": 2,
  "kernelspec": {
   "name": "python388jvsc74a57bd007efdcd4b820c98a756949507a4d29d7862823915ec7477944641bea022f4f62",
   "display_name": "Python 3.8.8 64-bit (virtualenv)"
  }
 },
 "nbformat": 4,
 "nbformat_minor": 2,
 "cells": [
  {
   "source": [
    "# Week1 work \n",
    "\n",
    "This weeks work will just be a slight introduction into Juptyer and how some python operators work \n",
    "\n",
    "Below is an example of a print statement \n",
    "\n",
    "Fill in the phrase \"Hello World!\" into the brackets and quotation marks \n",
    "\n",
    "After you've filled it in press the green play button to execute the code \n",
    "\n",
    "And that's that you've just run your first python code "
   ],
   "cell_type": "markdown",
   "metadata": {}
  },
  {
   "cell_type": "code",
   "execution_count": 3,
   "metadata": {},
   "outputs": [
    {
     "output_type": "stream",
     "name": "stdout",
     "text": [
      "hello world\n"
     ]
    }
   ],
   "source": [
    "print(\"hello world\")"
   ]
  },
  {
   "source": [
    "Next lets implement some variables, as mentioned before variables are used to store values and can be done dynamically \n",
    "\n",
    "Try entering a few different values for variable and then executing the code \n",
    "\n"
   ],
   "cell_type": "markdown",
   "metadata": {}
  },
  {
   "cell_type": "code",
   "execution_count": 7,
   "metadata": {},
   "outputs": [
    {
     "output_type": "stream",
     "name": "stdout",
     "text": [
      "String Variable\n10\nThis is a String variable String Variable\nThis is an int variable 10\nThese are both values : String Variable 10\n"
     ]
    }
   ],
   "source": [
    "stringVariable = \"String Variable\" # stringVariable is used for qualitative\n",
    "intVariable = 10  # intVariable is used qunaititaively \n",
    "\n",
    "print(stringVariable)\n",
    "print(intVariable)\n",
    "print(\"This is a String variable \" + stringVariable)\n",
    "print(\"This is an int variable\", intVariable) #Both + and , can be used here\n",
    "print(\"These are both values :\", stringVariable, intVariable)\n"
   ]
  },
  {
   "source": [
    "Next we'll have a look at some of the operators you can use in Python \n",
    "Most of these have the same meaning as normal\n",
    "\n",
    "+ +: add numbers together or join strings together \n",
    "+ -: minus numbers  \n",
    "+ /: divide numbers\n",
    "+ *: multiply numbers \n"
   ],
   "cell_type": "markdown",
   "metadata": {}
  },
  {
   "cell_type": "code",
   "execution_count": 12,
   "metadata": {},
   "outputs": [
    {
     "output_type": "stream",
     "name": "stdout",
     "text": [
      "ADDING: 11\nSUBTRACTING: -5\nDIVIDING: 0.5\nMULTIPLYING: 50\nTest Addition 55\n"
     ]
    }
   ],
   "source": [
    "num1 = 5\n",
    "num2 = 10\n",
    "\n",
    "total = num1 + num2 - 4\n",
    "print(\"ADDING:\" , total)\n",
    "total = num1 - num2\n",
    "print(\"SUBTRACTING:\" , total)\n",
    "total = num1 / num2\n",
    "print(\"DIVIDING:\" , total)\n",
    "total = num1 * num2\n",
    "print(\"MULTIPLYING:\" , total)\n",
    "total = num1 + total\n",
    "print(\"Test Addition\" , total) # The previous defined variable will be used in the following line of code, i.e. above total = num1 * num 2\n"
   ]
  },
  {
   "source": [
    "There are also some other useful operators \n",
    "+ %: modulus - Divides x into y, where x=5 and y=10, remainder is the modulus in this case is 0. If x=2 amd y=5, modulus would be 1 - Best for deciding if no. is even/odd\n",
    "+ **: exponentiation \n",
    "+ //: floor division - divides it and rounds, \"floors it to nearest number beneath it\""
   ],
   "cell_type": "markdown",
   "metadata": {}
  },
  {
   "cell_type": "code",
   "execution_count": 13,
   "metadata": {},
   "outputs": [
    {
     "output_type": "stream",
     "name": "stdout",
     "text": [
      "Modulus: 4\nTo the power of: 1000000\nFloor division: 1\n"
     ]
    }
   ],
   "source": [
    "num1 = 6\n",
    "num2 = 10\n",
    "\n",
    "total = num2 % num1\n",
    "print(\"Modulus:\" , total)\n",
    "total = num2 ** num1\n",
    "print(\"To the power of:\" , total)\n",
    "total = num2 // num1\n",
    "print(\"Floor division:\" , total) # 6/10 goes to 1.6666 - goes to 1"
   ]
  },
  {
   "source": [
    "Python also has a feature where you can both assign and use an operator with one command \n",
    "\n",
    "This is the use of the equals (=) with an operator (=-/*%**//)\n",
    "\n",
    "This is shown below "
   ],
   "cell_type": "markdown",
   "metadata": {}
  },
  {
   "cell_type": "code",
   "execution_count": 14,
   "metadata": {},
   "outputs": [
    {
     "output_type": "stream",
     "name": "stdout",
     "text": [
      "total += 10 =  10\ntotal -= 1 =  9\ntotal *= 2 =  18\ntotal /= 2 =  9.0\ntotal %= 5 =  4.0\ntotal **= 2 =  16.0\ntotal //= 2 =  8.0\n"
     ]
    }
   ],
   "source": [
    "total = 0\n",
    "\n",
    "#Same as total = total + 3\n",
    "total += 10 \n",
    "print(\"total += 10 = \", total)\n",
    "\n",
    "#Same as total = total - 1\n",
    "total -= 1 \n",
    "print(\"total -= 1 = \", total)\n",
    "\n",
    "#Same as total = total * 2\n",
    "total *= 2\n",
    "print(\"total *= 2 = \", total)\n",
    "\n",
    "#Same as total = total / 2\n",
    "total /= 2\n",
    "print(\"total /= 2 = \", total)\n",
    "\n",
    "#Same as total = total % 2\n",
    "total %= 5\n",
    "print(\"total %= 5 = \", total)\n",
    "\n",
    "#Same as total = total ** 2\n",
    "total **= 2\n",
    "print(\"total **= 2 = \", total)\n",
    "\n",
    "#Same as total = total // 2\n",
    "total //= 2\n",
    "print(\"total //= 2 = \", total)"
   ]
  },
  {
   "source": [
    "# Exercise \n",
    "Write a small program which calculates the average of 5 numbers num1, num2, num3, num4, num5\n",
    "\n",
    "The values of the numbers can be of any size \n",
    "\n",
    "Print the result to the screen "
   ],
   "cell_type": "markdown",
   "metadata": {}
  },
  {
   "cell_type": "code",
   "execution_count": 20,
   "metadata": {},
   "outputs": [
    {
     "output_type": "stream",
     "name": "stdout",
     "text": [
      "Addition of num1-5 168429281.546416\nMean of total 33685856.309283204\n"
     ]
    }
   ],
   "source": [
    "#Write code here \n",
    "meanVar2151iable = 0\n",
    "num1 = 6\n",
    "num2 = 14\n",
    "num3 = 168461684\n",
    "num4 = -32423\n",
    "num5 = 0.546416\n",
    "total = num1 + num2 + num3 + num4 + num5\n",
    "print(\"Addition of num1-5\" , total)\n",
    "meanVariable = total / 5\n",
    "print(\"Mean of total\" , meanVariable)\n"
   ]
  }
 ]
}