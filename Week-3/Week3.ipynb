{
 "metadata": {
  "language_info": {
   "codemirror_mode": {
    "name": "ipython",
    "version": 3
   },
   "file_extension": ".py",
   "mimetype": "text/x-python",
   "name": "python",
   "nbconvert_exporter": "python",
   "pygments_lexer": "ipython3",
   "version": "3.8.8"
  },
  "orig_nbformat": 2,
  "kernelspec": {
   "name": "python3",
   "display_name": "Python 3.8.8 64-bit ('base': conda)"
  },
  "metadata": {
   "interpreter": {
    "hash": "63fd5069d213b44bf678585dea6b12cceca9941eaf7f819626cde1f2670de90d"
   }
  },
  "interpreter": {
   "hash": "f84231b121f6d6d8212f5c9ed90b0f54ff41e5bc407c93aebc4530b27320d376"
  }
 },
 "nbformat": 4,
 "nbformat_minor": 2,
 "cells": [
  {
   "source": [
    "# Week 3 \n",
    "This week's work will focus on logic gates and conditional statements or queries \n",
    "\n",
    "Logic gates are previously explained in the Github page so please read this first to get a grasp on how computer science logic works \n",
    "\n",
    "Conditional statements are pretty much how conditions can be selected or made in the course of a program\n",
    "It is what is defined in computer code to change onto a different path of the program depending on results \n",
    "\n",
    "For example, If we made a program to count cars passing on a road you could make a conditional statment that would count all cars but also count cars depending on what colour that car was \n",
    "\n",
    "There are a number of different conditional statements such as switch statements and an if then else statement \n",
    "Both of which I will go through here"
   ],
   "cell_type": "markdown",
   "metadata": {}
  },
  {
   "source": [
    "# IF Statement \n",
    "If statement simply put are run once the condition is met, there is many different ways of writing an IF statement you can have one or multiple conditions as seen below "
   ],
   "cell_type": "markdown",
   "metadata": {}
  },
  {
   "cell_type": "code",
   "execution_count": 11,
   "metadata": {},
   "outputs": [
    {
     "output_type": "stream",
     "name": "stdout",
     "text": [
      "x is greater than 10\nx is greater than 10 and is an odd number\nx is greater than 10 or the number is even\n"
     ]
    }
   ],
   "source": [
    "x = 11 \n",
    "\n",
    "if(x > 10):\n",
    "    print(\"x is greater than 10\")\n",
    "\n",
    "if(x > 10 and (x % 2 == 1) ):\n",
    "    print(\"x is greater than 10 and is an odd number\")\n",
    "\n",
    "if(x > 10 or (x % 2 == 0) ):\n",
    "    print(\"x is greater than 10 or the number is even\")\n",
    "\n"
   ]
  },
  {
   "source": [
    "# IF then ELSE statement \n",
    "An IF ELSE statement is similar to an IF statement but rather it runs if the condition is not met\n",
    "Examples are shown below "
   ],
   "cell_type": "markdown",
   "metadata": {}
  },
  {
   "cell_type": "code",
   "execution_count": 10,
   "metadata": {},
   "outputs": [
    {
     "output_type": "stream",
     "name": "stdout",
     "text": [
      "x is greater than 10\nx is less than 10 and even\n"
     ]
    }
   ],
   "source": [
    "x = 515\n",
    "\n",
    "if(x > 10):\n",
    "    print(\"x is greater than 10\")\n",
    "else:\n",
    "    print(\"x is not greater than 10\")\n",
    "\n",
    "if(x > 10 and (x % 2 == 1) ):\n",
    "    print(\"x is greater than 10 and is an odd number\")\n",
    "else:\n",
    "    print(\"x is less than 10 and even\")"
   ]
  },
  {
   "source": [
    "# IF then ELIF then ELSE statement\n",
    "An IF ELIF ELSE statement is simliar to the above statements except you can have an additional check\n",
    "\n",
    "This is shown below "
   ],
   "cell_type": "markdown",
   "metadata": {}
  },
  {
   "cell_type": "code",
   "execution_count": 15,
   "metadata": {},
   "outputs": [
    {
     "output_type": "stream",
     "name": "stdout",
     "text": [
      "x ( 10 ) is greater than y ( 7 )\n"
     ]
    }
   ],
   "source": [
    "x = 10\n",
    "y = 7\n",
    "\n",
    "if(x > y):\n",
    "    print(\"x (\", x ,\") is greater than y (\", y ,\")\")\n",
    "elif(y > x):\n",
    "    print(\"y (\", y ,\") is greater than x (\", x ,\")\")\n",
    "else:\n",
    "    print(\"x and y are the same \")"
   ]
  },
  {
   "source": [
    "# Exercise 1 \n",
    " _When completed please write \"Completed Exercise 1\" on git commit along with the issue number for this week_\n",
    "\n",
    " The first exercise is to iterate through the list N which contains a series of numbers \n",
    "\n",
    " If the number is even you are to add it to a new list called _evenNumbers_ \n",
    "\n",
    " If the number is odd you are to add it to a new list called _oddNumbers_\n",
    "\n",
    " Then afterwards print out the contents of both newly created lists"
   ],
   "cell_type": "markdown",
   "metadata": {}
  },
  {
   "cell_type": "code",
   "execution_count": 2,
   "metadata": {},
   "outputs": [
    {
     "output_type": "stream",
     "name": "stdout",
     "text": [
      "evenNumbers = [322, 284, 568, 140, 288, 450, 626, 438, 128, 76, 876, 520, 460, 926, 520, 498, 832, 940, 198, 786, 602, 872, 946, 212, 562]\noddNumbers = [765, 997, 919, 773, 371, 959, 463, 373, 119, 47, 793, 731, 657, 647, 891, 609, 87, 521, 303, 485, 275, 205, 515, 1]\n"
     ]
    }
   ],
   "source": [
    "N = [765, 322, 284, 997, 919, 568, 773, 371, 140, 959, 288, 450, 463, 373, 626, 438, 119, 47, 793, 128, 731, 76, 657, 647, 891, 876, 520, 460, 926, 520, 609, 87, 521, 498, 832, 940,198, 303, 786, 602, 485, 872, 275, 946, 205, 515, 212, 1, 562]\n",
    "evenNumbers = []\n",
    "oddNumbers = []\n",
    "#If going through a list , use i to specify each element of the list and not the list itself.\n",
    "for i in N:\n",
    "    if(i % 2 == 1):\n",
    "        oddNumbers.append(i)\n",
    "    else:\n",
    "        evenNumbers.append(i)\n",
    "\n",
    "print(\"evenNumbers =\", evenNumbers)\n",
    "print(\"oddNumbers =\", oddNumbers)"
   ]
  },
  {
   "source": [
    "# Exercise 2\n",
    " _When completed please write \"Completed Exercise 2\" on git commit along with the issue number for this week_\n",
    "\n",
    "This is a bit tricky\n",
    "\n",
    "You are to create a working program to simulate the fibonacci sequence up to 34 \n",
    "_I assume you know what the fibonacci sequence is but if not  https://en.wikipedia.org/wiki/Fibonacci_number_\n",
    "\n",
    "Each time you iterate through it print out both numbers and the total of both numbers \n",
    "\n",
    "\n"
   ],
   "cell_type": "markdown",
   "metadata": {}
  },
  {
   "cell_type": "code",
   "execution_count": 9,
   "metadata": {},
   "outputs": [
    {
     "output_type": "error",
     "ename": "SyntaxError",
     "evalue": "'return' outside function (<ipython-input-9-a0c566d8c083>, line 8)",
     "traceback": [
      "\u001b[1;36m  File \u001b[1;32m\"<ipython-input-9-a0c566d8c083>\"\u001b[1;36m, line \u001b[1;32m8\u001b[0m\n\u001b[1;33m    return a\u001b[0m\n\u001b[1;37m    ^\u001b[0m\n\u001b[1;31mSyntaxError\u001b[0m\u001b[1;31m:\u001b[0m 'return' outside function\n"
     ]
    }
   ],
   "source": [
    "def fibonacci(n):\n",
    "    # function definitions, not exactly necessary but helps make a more modular code\n",
    "    a = 0 \n",
    "    b = 1\n",
    "for i in range(n):\n",
    "    if(n < 0):\n",
    "        print(\"incorrectino\")\n",
    "    elif(n == 0):\n",
    "        return a\n",
    "    elif(n > 0):\n",
    "        return b\n",
    "    else:\n",
    "        return(fibonacci(n-1) + fibonacci(n-2))\n",
    "nterms = int(input(7))\n",
    "for i in range(nterms):\n",
    "    print(fibonacci(i))\n",
    "\n",
    "\n",
    "\n",
    "\n"
   ]
  },
  {
   "cell_type": "code",
   "execution_count": 11,
   "metadata": {
    "tags": []
   },
   "outputs": [
    {
     "output_type": "stream",
     "name": "stdout",
     "text": [
      "a: 0\nb 1\ntotal 0\na: 1\nb 1\ntotal 1\na: 1\nb 2\ntotal 2\na: 2\nb 3\ntotal 3\na: 3\nb 5\ntotal 5\na: 5\nb 8\ntotal 8\na: 8\nb 13\ntotal 13\na: 13\nb 21\ntotal 21\na: 21\nb 34\ntotal 34\n"
     ]
    }
   ],
   "source": [
    "# 0, 1, 1, 2, 3, 5, 8, 13, 21, 34\n",
    "a = 0\n",
    "b = 1\n",
    "total = 0\n",
    "while(total < 35):\n",
    "    if(a + b == 0):\n",
    "        print(\"not a viable option\")\n",
    "    else:\n",
    "        print(\"a:\" , a)\n",
    "        print(\"b\" , b)\n",
    "        print(\"total\" , total)\n",
    "        total = a + b\n",
    "        a = b\n",
    "        b = total\n"
   ]
  },
  {
   "cell_type": "code",
   "execution_count": null,
   "metadata": {},
   "outputs": [],
   "source": []
  }
 ]
}