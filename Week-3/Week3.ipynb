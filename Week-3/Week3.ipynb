{
 "metadata": {
  "language_info": {
   "codemirror_mode": {
    "name": "ipython",
    "version": 3
   },
   "file_extension": ".py",
   "mimetype": "text/x-python",
   "name": "python",
   "nbconvert_exporter": "python",
   "pygments_lexer": "ipython3",
   "version": "3.9.1"
  },
  "orig_nbformat": 2,
  "kernelspec": {
   "name": "python391jvsc74a57bd063fd5069d213b44bf678585dea6b12cceca9941eaf7f819626cde1f2670de90d",
   "display_name": "Python 3.9.1 64-bit"
  },
  "metadata": {
   "interpreter": {
    "hash": "63fd5069d213b44bf678585dea6b12cceca9941eaf7f819626cde1f2670de90d"
   }
  }
 },
 "nbformat": 4,
 "nbformat_minor": 2,
 "cells": [
  {
   "source": [
    "# Week 3 \n",
    "This week's work will focus on logic gates and conditional statements or queries \n",
    "\n",
    "Logic gates are previously explained in the Github page so please read this first to get a grasp on how computer science logic works \n",
    "\n",
    "Conditional statements are pretty much how conditions can be selected or made in the course of a program\n",
    "It is what is defined in computer code to change onto a different path of the program depending on results \n",
    "\n",
    "For example, If we made a program to count cars passing on a road you could make a conditional statment that would count all cars but also count cars depending on what colour that car was \n",
    "\n",
    "There are a number of different conditional statements such as switch statements and an if then else statement \n",
    "Both of which I will go through here"
   ],
   "cell_type": "markdown",
   "metadata": {}
  },
  {
   "source": [
    "# IF Statement \n",
    "If statement simply put are run once the condition is met, there is many different ways of writing an IF statement you can have one or multiple conditions as seen below "
   ],
   "cell_type": "markdown",
   "metadata": {}
  },
  {
   "cell_type": "code",
   "execution_count": 9,
   "metadata": {},
   "outputs": [
    {
     "output_type": "stream",
     "name": "stdout",
     "text": [
      "x is greater than 10\nx is greater than 10 and is an odd number\nx is greater than 10 or the number is even\n"
     ]
    }
   ],
   "source": [
    "x = 11 \n",
    "\n",
    "if(x > 10):\n",
    "    print(\"x is greater than 10\")\n",
    "\n",
    "if(x > 10 and (x % 2 == 1) ):\n",
    "    print(\"x is greater than 10 and is an odd number\")\n",
    "\n",
    "if(x > 10 or (x % 2 == 0) ):\n",
    "    print(\"x is greater than 10 or the number is even\")\n",
    "\n"
   ]
  },
  {
   "source": [
    "# IF then ELSE statement \n",
    "An IF ELSE statement is similar to an IF statement but rather it runs if the condition is not met\n",
    "Examples are shown below "
   ],
   "cell_type": "markdown",
   "metadata": {}
  },
  {
   "cell_type": "code",
   "execution_count": 10,
   "metadata": {},
   "outputs": [
    {
     "output_type": "stream",
     "name": "stdout",
     "text": [
      "x is greater than 10\nx is less than 10 and even\n"
     ]
    }
   ],
   "source": [
    "x = 515\n",
    "\n",
    "if(x > 10):\n",
    "    print(\"x is greater than 10\")\n",
    "else:\n",
    "    print(\"x is not greater than 10\")\n",
    "\n",
    "if(x > 10 and (x % 2 == 1) ):\n",
    "    print(\"x is greater than 10 and is an odd number\")\n",
    "else:\n",
    "    print(\"x is less than 10 and even\")"
   ]
  },
  {
   "source": [
    "# IF then ELIF then ELSE statement\n",
    "An IF ELIF ELSE statement is simliar to the above statements except you can have an additional check\n",
    "\n",
    "This is shown below "
   ],
   "cell_type": "markdown",
   "metadata": {}
  },
  {
   "cell_type": "code",
   "execution_count": 15,
   "metadata": {},
   "outputs": [
    {
     "output_type": "stream",
     "name": "stdout",
     "text": [
      "x ( 10 ) is greater than y ( 7 )\n"
     ]
    }
   ],
   "source": [
    "x = 10\n",
    "y = 7\n",
    "\n",
    "if(x > y):\n",
    "    print(\"x (\", x ,\") is greater than y (\", y ,\")\")\n",
    "elif(y > x):\n",
    "    print(\"y (\", y ,\") is greater than x (\", x ,\")\")\n",
    "else:\n",
    "    print(\"x and y are the same \")"
   ]
  },
  {
   "source": [
    "# Exercise 1 \n",
    " _When completed please write \"Completed Exercise 1\" on git commit along with the issue number for this week_\n",
    "\n",
    " The first exercise is to iterate through the list N which contains a series of numbers \n",
    "\n",
    " If the number is even you are to add it to a new list called _evenNumbers_ \n",
    "\n",
    " If the number is odd you are to add it to a new list called _oddNumbers_\n",
    "\n",
    " Then afterwards print out the contents of both newly created lists"
   ],
   "cell_type": "markdown",
   "metadata": {}
  },
  {
   "cell_type": "code",
   "execution_count": null,
   "metadata": {},
   "outputs": [],
   "source": [
    "#N = List of total numbers\n",
    "N = [765, 322, 284, 997, 919\n",
    "568, 773, 371, 140, 959,\n",
    "288, 450, 463, 373,\t626,\n",
    "438, 119, 47, 793, 128,\n",
    "731, 76, 657, 647, 891,\n",
    "876, 520, 460, 926,\t520,\n",
    "609, 87, 521, 498, 832,\n",
    "940, 198, 303, 786,\t602,\n",
    "485, 872, 275, 946, 205,\n",
    "1, 762,\t631, 336, 237 ]"
   ]
  },
  {
   "source": [
    "# Exercise 2\n",
    " _When completed please write \"Completed Exercise 2\" on git commit along with the issue number for this week_\n",
    "\n",
    "This is a bit tricky\n",
    "\n",
    "You are to create a working program to simulate the fibonacci sequence up to 34 \n",
    "_I assume you know what the fibonacci sequence is but if not  https://en.wikipedia.org/wiki/Fibonacci_number_\n",
    "\n",
    "Each time you iterate through it print out both numbers and the total of both numbers \n",
    "\n",
    "\n"
   ],
   "cell_type": "markdown",
   "metadata": {}
  },
  {
   "cell_type": "code",
   "execution_count": null,
   "metadata": {},
   "outputs": [],
   "source": [
    "#Write your program in here "
   ]
  }
 ]
}