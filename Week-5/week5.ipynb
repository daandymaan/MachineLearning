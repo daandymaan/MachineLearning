{
    "cells": [
        {
            "cell_type": "markdown",
            "source": [
                "# Week 5 \r\n",
                "\r\n",
                "This week will be about functions and I/O (Input and output)\r\n",
                "\r\n",
                "Functions help us organize our code so that it is modular and reusable, simliar to how we iterate through an array instead of repeating the same line of code again and again\r\n",
                "\r\n",
                "This week will go through creating a modular program and then at the end I'll get you to create your own modular program based on user input "
            ],
            "metadata": {}
        },
        {
            "cell_type": "markdown",
            "source": [
                "Functions allow us to separate out code so it can be used again, this function shows us an example.\r\n",
                "Functions are defined by using the 'def' keyword \r\n",
                "They should also be in lowercase with __ separating out the the words\r\n",
                "The return key word, returns a value back to where the function is called from\r\n",
                "To call a function you must include the name of the function and any parameters "
            ],
            "metadata": {}
        },
        {
            "cell_type": "code",
            "execution_count": 5,
            "source": [
                "def add_two_numbers(x, y):\r\n",
                "    return x + y\r\n",
                "\r\n",
                "for z in range(0, 10):\r\n",
                "    print(z , \" + \" , (z+1) , \"=\" )\r\n",
                "    print(add_two_numbers(z, z+1))\r\n",
                "    # ans = add_two_numbers(z, z+1)\r\n",
                "    # print(z , \" + \" , (z+1) , \"=\" , ans )\r\n"
            ],
            "outputs": [
                {
                    "output_type": "stream",
                    "name": "stdout",
                    "text": [
                        "0  +  1 =\n",
                        "1\n",
                        "1  +  2 =\n",
                        "3\n",
                        "2  +  3 =\n",
                        "5\n",
                        "3  +  4 =\n",
                        "7\n",
                        "4  +  5 =\n",
                        "9\n",
                        "5  +  6 =\n",
                        "11\n",
                        "6  +  7 =\n",
                        "13\n",
                        "7  +  8 =\n",
                        "15\n",
                        "8  +  9 =\n",
                        "17\n",
                        "9  +  10 =\n",
                        "19\n"
                    ]
                }
            ],
            "metadata": {}
        },
        {
            "cell_type": "markdown",
            "source": [
                "Here's another example of a function with no parameters\r\n"
            ],
            "metadata": {}
        },
        {
            "cell_type": "code",
            "execution_count": 19,
            "source": [
                "def greeting():\r\n",
                "    return \"Top of the morning to ya\" \r\n",
                "\r\n",
                "names = [\"Adam\", \"Dan\", \"Cheese\"]\r\n",
                "for name in names:\r\n",
                "    greet = greeting()\r\n",
                "    print(greet, name)\r\n",
                "\r\n",
                "    # Now make this function able to take a parameter of the name and return the full greeting in the function "
            ],
            "outputs": [
                {
                    "output_type": "stream",
                    "name": "stdout",
                    "text": [
                        "Top of the morning to ya Adam\n",
                        "Top of the morning to ya Dan\n",
                        "Top of the morning to ya Cheese\n"
                    ]
                }
            ],
            "metadata": {}
        },
        {
            "cell_type": "markdown",
            "source": [
                "You can also have default values in function so if a parameter is not selected it will autofill with this value "
            ],
            "metadata": {}
        },
        {
            "cell_type": "code",
            "execution_count": 24,
            "source": [
                "def welcome_message(name, timeframe = \"morning\"):\r\n",
                "    if(timeframe ==\"morning\"):\r\n",
                "        return \"Top of the morning to ya \" + name\r\n",
                "    else:\r\n",
                "        return \"Damn the mornings finished already \" + name \r\n",
                "\r\n",
                "print(welcome_message(\"Adam\"))\r\n",
                "print(welcome_message(\"Dan\", \"Blah\"))"
            ],
            "outputs": [
                {
                    "output_type": "stream",
                    "name": "stdout",
                    "text": [
                        "Top of the morning to ya Adam\n",
                        "Damn the mornings finished already Dan\n"
                    ]
                }
            ],
            "metadata": {}
        },
        {
            "cell_type": "markdown",
            "source": [
                "You can also have function chaining, this is when you have a function call within another function call and so on\r\n",
                "Above was a example of this but it's not as clear as 'print' is itself a function but its a default function \r\n",
                "Below is a better example of it "
            ],
            "metadata": {}
        },
        {
            "cell_type": "code",
            "execution_count": 38,
            "source": [
                "from datetime import datetime\r\n",
                "\r\n",
                "def get_local_time():\r\n",
                "    currentTime = datetime.now().strftime(\"%H:%M:%S\")\r\n",
                "    return currentTime\r\n",
                "\r\n",
                "def get_timeframe(currTime = \"09:00:00\"):\r\n",
                "    print(currTime)\r\n",
                "    if currTime < \"12:00:00\":\r\n",
                "        return \"morning\"\r\n",
                "    elif currTime >= \"12:00:00\" and currTime < \"18:00:00\":\r\n",
                "        return \"afternoon\"\r\n",
                "    else:\r\n",
                "        return \"evening\"\r\n",
                "\r\n",
                "def select_greeting(timeframe):\r\n",
                "    return \"Good \" + timeframe + \"!\"\r\n",
                "    \r\n",
                "\r\n",
                "print(select_greeting(get_timeframe(get_local_time())))\r\n",
                "\r\n",
                "\r\n",
                "print(welcome_message(\"Dan\", get_timeframe(get_local_time())))\r\n",
                "\r\n",
                "\r\n",
                "print(select_greeting(get_timeframe()))"
            ],
            "outputs": [
                {
                    "output_type": "stream",
                    "name": "stdout",
                    "text": [
                        "13:43:34\n",
                        "Good afternoon!\n",
                        "13:43:34\n",
                        "Damn the mornings finished already Dan\n",
                        "09:00:00\n",
                        "Good morning!\n"
                    ]
                }
            ],
            "metadata": {}
        },
        {
            "cell_type": "markdown",
            "source": [
                "Now we are going to introduce a bit of input which makes things a lot more fun "
            ],
            "metadata": {}
        },
        {
            "cell_type": "code",
            "execution_count": 39,
            "source": [
                "def get_users_name():\r\n",
                "    username = input(\"Please enter your name:\")\r\n",
                "    print(username + \" was selected\")\r\n",
                "    return username\r\n",
                "\r\n",
                "def welcome_user(name):\r\n",
                "    print(\"Welcome \" , name , \"\\n The time is currently\", get_local_time())\r\n",
                "\r\n",
                "username = get_users_name()\r\n",
                "welcome_user(username)\r\n",
                "\r\n"
            ],
            "outputs": [
                {
                    "output_type": "stream",
                    "name": "stdout",
                    "text": [
                        "Dan was selected\n",
                        "Welcome  Dan \n",
                        " The time is currently 13:48:24\n"
                    ]
                }
            ],
            "metadata": {}
        },
        {
            "cell_type": "markdown",
            "source": [
                "# Exercise \r\n",
                "Your task is to create a school report system that does a number of things. \r\n",
                "There is a number of functions created for you to help you with this exercise \r\n",
                "1. Display a welcome message with the time and appropriate greeting for the time when the system is started (Use methods from above)\r\n",
                "2. Print out all students names attending the school \r\n",
                "3. Print out all the students grades \r\n",
                "4. Print out all of the students depending on their classes \r\n",
                "5. Calculate the average of the grades for each student \r\n",
                "6. Calculate the average grade of students in a class "
            ],
            "metadata": {}
        },
        {
            "cell_type": "code",
            "execution_count": 51,
            "source": [
                "def get_list_of_students():\r\n",
                "    studentList = [{\"name\": \"Daniel Simons\", \"ID\": \"001\", \"grades\" : [70, 65, 40], \"class\" : \"A\"}, \r\n",
                "                   {\"name\": \"Adamn Cruise\", \"ID\": \"002\", \"grades\": [100, 55, 78], \"class\" : \"B\"},\r\n",
                "                   {\"name\": \"John Smith\", \"ID\": \"003\", \"grades\": [34, 55, 68], \"class\" : \"C\"},\r\n",
                "                   {\"name\": \"Polly Lutz\", \"ID\": \"004\", \"grades\": [45, 82, 98], \"class\" : \"A\"},\r\n",
                "                   {\"name\": \"Aneeka Singh\", \"ID\": \"005\", \"grades\": [12, 24, 88], \"class\" : \"B\"},\r\n",
                "                   {\"name\": \"Zakary Diaz\", \"ID\": \"006\", \"grades\": [43, 46, 45], \"class\" : \"C\"},\r\n",
                "                   {\"name\": \"Matei Barclay\", \"ID\": \"007\", \"grades\": [56, 67, 68], \"class\" : \"A\"},\r\n",
                "                   {\"name\": \"Jerry Storey\", \"ID\": \"008\", \"grades\": [99, 92, 54], \"class\" : \"B\"},\r\n",
                "                   {\"name\": \"Nala Vang\", \"ID\": \"009\", \"grades\": [87, 32, 75], \"class\" : \"C\"},\r\n",
                "                   {\"name\": \"Mabel Potts\", \"ID\": \"010\", \"grades\": [66, 55, 77], \"class\" : \"A\"},\r\n",
                "                   {\"name\": \"Alyx Boyle\", \"ID\": \"011\", \"grades\": [42, 88, 100], \"class\" : \"B\"},]\r\n",
                "    return studentList\r\n",
                "\r\n",
                "\r\n",
                "# students = get_list_of_students()\r\n",
                "# for student in students:\r\n",
                "#     print(student[\"name\"])\r\n",
                "#     print(student[\"ID\"])\r\n",
                "#     print(student[\"grades\"])\r\n",
                "#     print(student[\"class\"])\r\n",
                "\r\n",
                "\r\n",
                "print(\"Welcome\")\r\n",
                "print(\"Press the appropriate key: \")\r\n",
                "print(\"1. View all students\")\r\n",
                "print(\"2. Print all students with their grades\")\r\n",
                "print(\"3. Print all students in a specified class\")\r\n",
                "print(\"4. Calculate the average grade for student or list of students\")\r\n",
                "\r\n",
                "userInput = input(\"Please enter an appropriate key\")\r\n",
                "\r\n"
            ],
            "outputs": [
                {
                    "output_type": "stream",
                    "name": "stdout",
                    "text": [
                        "Welcome\n",
                        "Press the appropriate key: \n",
                        "1. View all students\n",
                        "2. Print all students with their grades\n",
                        "3. Print all students in a specified class\n",
                        "4. Calculate the average grade for student or list of students\n"
                    ]
                }
            ],
            "metadata": {}
        },
        {
            "cell_type": "code",
            "execution_count": null,
            "source": [],
            "outputs": [],
            "metadata": {}
        }
    ],
    "metadata": {
        "orig_nbformat": 4,
        "language_info": {
            "name": "python",
            "version": "3.9.1",
            "mimetype": "text/x-python",
            "codemirror_mode": {
                "name": "ipython",
                "version": 3
            },
            "pygments_lexer": "ipython3",
            "nbconvert_exporter": "python",
            "file_extension": ".py"
        },
        "kernelspec": {
            "name": "python3",
            "display_name": "Python 3.9.1 64-bit"
        },
        "interpreter": {
            "hash": "63fd5069d213b44bf678585dea6b12cceca9941eaf7f819626cde1f2670de90d"
        }
    },
    "nbformat": 4,
    "nbformat_minor": 2
}