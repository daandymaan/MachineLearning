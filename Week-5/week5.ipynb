{
    "cells": [
        {
            "cell_type": "markdown",
            "metadata": {},
            "source": [
                "# Week 5 \n",
                "\n",
                "This week will be about functions and I/O (Input and output)\n",
                "\n",
                "Functions help us organize our code so that it is modular and reusable, simliar to how we iterate through an array instead of repeating the same line of code again and again\n",
                "\n",
                "This week will go through creating a modular program and then at the end I'll get you to create your own modular program based on user input "
            ]
        },
        {
            "cell_type": "markdown",
            "metadata": {},
            "source": [
                "Functions allow us to separate out code so it can be used again, this function shows us an example.\n",
                "Functions are defined by using the 'def' keyword \n",
                "They should also be in lowercase with __ separating out the the words\n",
                "The return key word, returns a value back to where the function is called from\n",
                "To call a function you must include the name of the function and any parameters "
            ]
        },
        {
            "cell_type": "code",
            "execution_count": 32,
            "metadata": {},
            "outputs": [
                {
                    "name": "stdout",
                    "output_type": "stream",
                    "text": [
                        "0  +  1 =\n",
                        "1\n",
                        "1  +  2 =\n",
                        "3\n",
                        "2  +  3 =\n",
                        "5\n",
                        "3  +  4 =\n",
                        "7\n",
                        "4  +  5 =\n",
                        "9\n",
                        "5  +  6 =\n",
                        "11\n",
                        "6  +  7 =\n",
                        "13\n",
                        "7  +  8 =\n",
                        "15\n",
                        "8  +  9 =\n",
                        "17\n",
                        "9  +  10 =\n",
                        "19\n"
                    ]
                }
            ],
            "source": [
                "def add_two_numbers(x, y):\n",
                "    return x + y\n",
                "\n",
                "for z in range(0, 10):\n",
                "    print(z , \" + \" , (z+1) , \"=\" )\n",
                "    print(add_two_numbers(z, z+1))\n",
                "    # ans = add_two_numbers(z, z+1)\n",
                "    # print(z , \" + \" , (z+1) , \"=\" , ans )\n"
            ]
        },
        {
            "cell_type": "markdown",
            "metadata": {},
            "source": [
                "Here's another example of a function with no parameters\n"
            ]
        },
        {
            "cell_type": "code",
            "execution_count": 33,
            "metadata": {},
            "outputs": [
                {
                    "name": "stdout",
                    "output_type": "stream",
                    "text": [
                        "Top of the morning to ya Adam\n",
                        "Top of the morning to ya Dan\n",
                        "Top of the morning to ya Cheese\n"
                    ]
                }
            ],
            "source": [
                "def greeting():\n",
                "    return \"Top of the morning to ya\" \n",
                "\n",
                "names = [\"Adam\", \"Dan\", \"Cheese\"]\n",
                "for name in names:\n",
                "    greet = greeting()\n",
                "    print(greet, name)\n",
                "\n",
                "    # Now make this function able to take a parameter of the name and return the full greeting in the function "
            ]
        },
        {
            "cell_type": "markdown",
            "metadata": {},
            "source": [
                "You can also have default values in function so if a parameter is not selected it will autofill with this value "
            ]
        },
        {
            "cell_type": "code",
            "execution_count": 34,
            "metadata": {},
            "outputs": [
                {
                    "name": "stdout",
                    "output_type": "stream",
                    "text": [
                        "Top of the morning to ya Adam\n",
                        "Damn the mornings finished already Dan\n"
                    ]
                }
            ],
            "source": [
                "def welcome_message(name, timeframe = \"morning\"):\n",
                "    if(timeframe ==\"morning\"):\n",
                "        return \"Top of the morning to ya \" + name\n",
                "    else:\n",
                "        return \"Damn the mornings finished already \" + name \n",
                "\n",
                "print(welcome_message(\"Adam\"))\n",
                "print(welcome_message(\"Dan\", \"Blah\"))"
            ]
        },
        {
            "cell_type": "markdown",
            "metadata": {},
            "source": [
                "You can also have function chaining, this is when you have a function call within another function call and so on\n",
                "Above was a example of this but it's not as clear as 'print' is itself a function but its a default function \n",
                "Below is a better example of it "
            ]
        },
        {
            "cell_type": "code",
            "execution_count": 35,
            "metadata": {},
            "outputs": [
                {
                    "name": "stdout",
                    "output_type": "stream",
                    "text": [
                        "21:33:12\n",
                        "Good evening!\n",
                        "21:33:12\n",
                        "Damn the mornings finished already Dan\n",
                        "09:00:00\n",
                        "Good morning!\n"
                    ]
                }
            ],
            "source": [
                "from datetime import datetime\n",
                "\n",
                "def get_local_time():\n",
                "    currentTime = datetime.now().strftime(\"%H:%M:%S\")\n",
                "    return currentTime\n",
                "\n",
                "def get_timeframe(currTime = \"09:00:00\"):\n",
                "    print(currTime)\n",
                "    if currTime < \"12:00:00\":\n",
                "        return \"morning\"\n",
                "    elif currTime >= \"12:00:00\" and currTime < \"18:00:00\":\n",
                "        return \"afternoon\"\n",
                "    else:\n",
                "        return \"evening\"\n",
                "\n",
                "def select_greeting(timeframe):\n",
                "    return \"Good \" + timeframe + \"!\"\n",
                "\n",
                "#this function and the one below are identical, a function inside a function is a nicer way to joion variables into one another. (function chaining)\n",
                "lt = get_local_time()\n",
                "tf = get_timeframe(lt)\n",
                "gr = select_greeting(tf)\n",
                "print(gr)\n",
                "\n",
                "#print(select_greeting(get_timeframe(get_local_time())))\n",
                "\n",
                "\n",
                "print(welcome_message(\"Dan\", get_timeframe(get_local_time())))\n",
                "\n",
                "\n",
                "\n",
                "print(select_greeting(get_timeframe()))"
            ]
        },
        {
            "cell_type": "markdown",
            "metadata": {},
            "source": [
                "Now we are going to introduce a bit of input which makes things a lot more fun "
            ]
        },
        {
            "cell_type": "code",
            "execution_count": 36,
            "metadata": {},
            "outputs": [],
            "source": [
                "def get_users_name():\n",
                "    username = input(\"Please enter your name:\")\n",
                "    print(username + \" was selected\")\n",
                "    return username\n",
                "\n",
                "def welcome_user(name):\n",
                "    print(\"Welcome \" , name , \"\\n The time is currently\", get_local_time())\n",
                "\n",
                "#username = get_users_name()\n",
                "#welcome_user(username)\n",
                "\n"
            ]
        },
        {
            "cell_type": "markdown",
            "metadata": {},
            "source": [
                "# Exercise \n",
                "Your task is to create a school report system that does a number of things. \n",
                "There is a number of functions created for you to help you with this exercise \n",
                "1. Display a welcome message with the time and appropriate greeting for the time when the system is started (Use methods from above)\n",
                "2. Print out all students names attending the school \n",
                "3. Print out all the students grades \n",
                "4. Print out all of the students depending on their classes \n",
                "5. Calculate the average of the grades for each student \n",
                "6. Calculate the average grade of students in a class "
            ]
        },
        {
            "cell_type": "code",
            "execution_count": 37,
            "metadata": {},
            "outputs": [
                {
                    "name": "stdout",
                    "output_type": "stream",
                    "text": [
                        "Welcome\n",
                        "Press the appropriate key: \n",
                        "1. View all students\n",
                        "2. Print all students with their grades\n",
                        "3. Print all students in a specified class\n",
                        "4. Calculate the average grade for student or list of students\n",
                        "21:33:12\n",
                        "Top of the morning to ya evening\n",
                        "All current students: ['Daniel Simons', 'Adamn Cruise', 'John Smith', 'Polly Lutz', 'Aneeka Singh', 'Zakary Diaz', 'Matei Barclay', 'Jerry Storey', 'Nala Vang', 'Mabel Potts', 'Alyx Boyle']\n",
                        "All current students and their grades: ['Daniel Simons', 'Adamn Cruise', 'John Smith', 'Polly Lutz', 'Aneeka Singh', 'Zakary Diaz', 'Matei Barclay', 'Jerry Storey', 'Nala Vang', 'Mabel Potts', 'Alyx Boyle'], [[70, 65, 40], [100, 55, 78], [34, 55, 68], [45, 82, 98], [12, 24, 88], [43, 46, 45], [56, 67, 68], [99, 92, 54], [87, 32, 75], [66, 55, 77], [42, 88, 100]]\n",
                        "Student Class A contains: ['Daniel Simons', 'Polly Lutz', 'Matei Barclay', 'Mabel Potts'], Student Class B contains: ['Adamn Cruise', 'Aneeka Singh', 'Jerry Storey', 'Alyx Boyle'], Student Class C contains: ['John Smith', 'Zakary Diaz', 'Nala Vang']\n",
                        "['58.33%', '77.67%', '52.33%', '75.00%', '41.33%', '44.67%', '63.67%', '81.67%', '64.67%', '66.00%', '76.67%']\n"
                    ]
                },
                {
                    "ename": "ValueError",
                    "evalue": "invalid literal for int() with base 10: ''",
                    "output_type": "error",
                    "traceback": [
                        "\u001b[1;31m---------------------------------------------------------------------------\u001b[0m",
                        "\u001b[1;31mValueError\u001b[0m                                Traceback (most recent call last)",
                        "\u001b[1;32m<ipython-input-37-969d2e24b543>\u001b[0m in \u001b[0;36m<module>\u001b[1;34m\u001b[0m\n\u001b[0;32m    124\u001b[0m \u001b[1;31m# students_in_class()\u001b[0m\u001b[1;33m\u001b[0m\u001b[1;33m\u001b[0m\u001b[1;33m\u001b[0m\u001b[0m\n\u001b[0;32m    125\u001b[0m \u001b[1;31m# average_grade_calc()\u001b[0m\u001b[1;33m\u001b[0m\u001b[1;33m\u001b[0m\u001b[1;33m\u001b[0m\u001b[0m\n\u001b[1;32m--> 126\u001b[1;33m \u001b[0mkey_operation\u001b[0m\u001b[1;33m(\u001b[0m\u001b[1;33m)\u001b[0m\u001b[1;33m\u001b[0m\u001b[1;33m\u001b[0m\u001b[0m\n\u001b[0m\u001b[0;32m    127\u001b[0m \u001b[1;33m\u001b[0m\u001b[0m\n\u001b[0;32m    128\u001b[0m \u001b[1;33m\u001b[0m\u001b[0m\n",
                        "\u001b[1;32m<ipython-input-37-969d2e24b543>\u001b[0m in \u001b[0;36mkey_operation\u001b[1;34m()\u001b[0m\n\u001b[0;32m     75\u001b[0m             \u001b[0mprint\u001b[0m\u001b[1;33m(\u001b[0m\u001b[1;34m\"Please enter an appropriate key:\"\u001b[0m\u001b[1;33m)\u001b[0m\u001b[1;33m\u001b[0m\u001b[1;33m\u001b[0m\u001b[0m\n\u001b[0;32m     76\u001b[0m             \u001b[0mprint_statements\u001b[0m\u001b[1;33m(\u001b[0m\u001b[1;33m)\u001b[0m\u001b[1;33m\u001b[0m\u001b[1;33m\u001b[0m\u001b[0m\n\u001b[1;32m---> 77\u001b[1;33m         \u001b[0mx\u001b[0m \u001b[1;33m=\u001b[0m \u001b[0mint\u001b[0m\u001b[1;33m(\u001b[0m\u001b[1;33m(\u001b[0m\u001b[0minput\u001b[0m\u001b[1;33m(\u001b[0m\u001b[1;34m\"Please enter an appropritate key\"\u001b[0m\u001b[1;33m)\u001b[0m\u001b[1;33m)\u001b[0m\u001b[1;33m)\u001b[0m\u001b[1;33m\u001b[0m\u001b[1;33m\u001b[0m\u001b[0m\n\u001b[0m\u001b[0;32m     78\u001b[0m \u001b[1;33m\u001b[0m\u001b[0m\n\u001b[0;32m     79\u001b[0m \u001b[1;33m\u001b[0m\u001b[0m\n",
                        "\u001b[1;31mValueError\u001b[0m: invalid literal for int() with base 10: ''"
                    ]
                }
            ],
            "source": [
                "\n",
                "def get_list_of_students():\n",
                "    studentList = [{\"name\": \"Daniel Simons\", \"ID\": \"001\", \"grades\" : [70, 65, 40], \"class\" : \"A\"}, \n",
                "                   {\"name\": \"Adamn Cruise\", \"ID\": \"002\", \"grades\": [100, 55, 78], \"class\" : \"B\"},\n",
                "                   {\"name\": \"John Smith\", \"ID\": \"003\", \"grades\": [34, 55, 68], \"class\" : \"C\"},\n",
                "                   {\"name\": \"Polly Lutz\", \"ID\": \"004\", \"grades\": [45, 82, 98], \"class\" : \"A\"},\n",
                "                   {\"name\": \"Aneeka Singh\", \"ID\": \"005\", \"grades\": [12, 24, 88], \"class\" : \"B\"},\n",
                "                   {\"name\": \"Zakary Diaz\", \"ID\": \"006\", \"grades\": [43, 46, 45], \"class\" : \"C\"},\n",
                "                   {\"name\": \"Matei Barclay\", \"ID\": \"007\", \"grades\": [56, 67, 68], \"class\" : \"A\"},\n",
                "                   {\"name\": \"Jerry Storey\", \"ID\": \"008\", \"grades\": [99, 92, 54], \"class\" : \"B\"},\n",
                "                   {\"name\": \"Nala Vang\", \"ID\": \"009\", \"grades\": [87, 32, 75], \"class\" : \"C\"},\n",
                "                   {\"name\": \"Mabel Potts\", \"ID\": \"010\", \"grades\": [66, 55, 77], \"class\" : \"A\"},\n",
                "                   {\"name\": \"Alyx Boyle\", \"ID\": \"011\", \"grades\": [42, 88, 100], \"class\" : \"B\"},]\n",
                "    return studentList\n",
                "\n",
                "def view_all_students():\n",
                "    students = get_list_of_students()\n",
                "    studentNames = []\n",
                "    for student in students:\n",
                "        studentNames.append(student[\"name\"])\n",
                "    print(f\"All current students: {studentNames}\")\n",
                "\n",
                "def student_grades():\n",
                "    students = get_list_of_students()\n",
                "    studentGrades = []\n",
                "    studentNames = []\n",
                "    for student in students:\n",
                "        studentGrades.append(student[\"grades\"])\n",
                "    for student in students:\n",
                "        studentNames.append(student[\"name\"])\n",
                "    print(f\"All current students and their grades: {studentNames}, {studentGrades}\")\n",
                "\n",
                "def students_in_class():\n",
                "    students = get_list_of_students()\n",
                "    studentClassA = []\n",
                "    studentClassB = []\n",
                "    studentClassC = []\n",
                "    for student in students:\n",
                "        if student[\"class\"] == \"A\":\n",
                "            studentClassA.append(student[\"name\"])\n",
                "        elif student[\"class\"] == \"B\":\n",
                "            studentClassB.append(student[\"name\"])\n",
                "        else:\n",
                "            studentClassC.append(student[\"name\"])\n",
                "    print(f\"Student Class A contains: {studentClassA}, Student Class B contains: {studentClassB}, Student Class C contains: {studentClassC}\")\n",
                "\n",
                "def average_grade_calc():\n",
                "    students = get_list_of_students()\n",
                "    groupGrades = []\n",
                "    listOfTotals = []\n",
                "    for student in students:\n",
                "        groupGrades.append(student[\"grades\"])\n",
                "    for grade in groupGrades:\n",
                "        total = sum(grade)/3\n",
                "        total = (\"{:.2f}%\".format(total))\n",
                "        listOfTotals.append(total)\n",
                "    print(listOfTotals)\n",
                "\n",
                "def key_operation():\n",
                "    print_statements()\n",
                "    print(welcome_message(get_timeframe(get_local_time())))\n",
                "    userInput = (input(\"Please enter an appropritate key\"))\n",
                "    x = (int(userInput))\n",
                "    while x != 5:\n",
                "        if x == 1:\n",
                "            view_all_students()\n",
                "        elif x == 2:\n",
                "            student_grades()\n",
                "        elif x == 3:\n",
                "            students_in_class()\n",
                "        elif x == 4:\n",
                "            average_grade_calc()\n",
                "        elif x ==5:\n",
                "            print(\"exiting the programe\")\n",
                "        else:\n",
                "            print(\"Please enter an appropriate key:\")\n",
                "            print_statements()\n",
                "        x = int((input(\"Please enter an appropritate key\")))\n",
                "        \n",
                "\n",
                "\n",
                "# Above setting x = 0 when while loop is iterted once, will break itself out of while loop as x is now updated.\n",
                "\n",
                "\n",
                "\n",
                "# students = get_list_of_students()\n",
                "# for student in students:\n",
                "#     print(student[\"name\"])\n",
                "#     print(student[\"ID\"])\n",
                "#     print(student[\"grades\"])\n",
                "#     print(student[\"class\"])\n",
                "def print_statements():\n",
                "    print(\"Welcome\")\n",
                "    print(\"Press the appropriate key: \")\n",
                "    print(\"1. View all students\")\n",
                "    print(\"2. Print all students with their grades\")\n",
                "    print(\"3. Print all students in a specified class\")\n",
                "    print(\"4. Calculate the average grade for student or list of students\")\n",
                "\n",
                "#userInput = input(\"Please enter an appropriate key\")\n",
                "\n",
                "# view_all_students()\n",
                "# student_grades()\n",
                "# students_in_class()\n",
                "# average_grade_calc()\n",
                "key_operation()\n",
                "\n",
                "\n",
                "\n"
            ]
        },
        {
            "cell_type": "code",
            "execution_count": null,
            "metadata": {},
            "outputs": [
                {
                    "name": "stdout",
                    "output_type": "stream",
                    "text": [
                        "1\n",
                        "4\n",
                        "5\n",
                        "12\n",
                        "-5\n",
                        "8\n",
                        "9\n",
                        "0\n",
                        "-6\n",
                        "7\n",
                        "11\n",
                        "19\n"
                    ]
                }
            ],
            "source": [
                "newMatrix = [[1, 4, 5, 12], \n",
                "    [-5, 8, 9, 0],\n",
                "    [-6, 7, 11, 19]]\n",
                "for x in newMatrix:\n",
                "    for y in x:\n",
                "        print(y)\n",
                "\n"
            ]
        }
    ],
    "metadata": {
        "interpreter": {
            "hash": "f84231b121f6d6d8212f5c9ed90b0f54ff41e5bc407c93aebc4530b27320d376"
        },
        "kernelspec": {
            "display_name": "Python 3.8.8 64-bit ('base': conda)",
            "name": "python3"
        },
        "language_info": {
            "codemirror_mode": {
                "name": "ipython",
                "version": 3
            },
            "file_extension": ".py",
            "mimetype": "text/x-python",
            "name": "python",
            "nbconvert_exporter": "python",
            "pygments_lexer": "ipython3",
            "version": "3.8.8"
        },
        "orig_nbformat": 4
    },
    "nbformat": 4,
    "nbformat_minor": 2
}
