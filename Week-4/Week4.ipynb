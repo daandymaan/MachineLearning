{
 "metadata": {
  "language_info": {
   "codemirror_mode": {
    "name": "ipython",
    "version": 3
   },
   "file_extension": ".py",
   "mimetype": "text/x-python",
   "name": "python",
   "nbconvert_exporter": "python",
   "pygments_lexer": "ipython3",
   "version": "3.8.8"
  },
  "orig_nbformat": 4,
  "kernelspec": {
   "name": "python3",
   "display_name": "Python 3.8.8 64-bit ('base': conda)"
  },
  "interpreter": {
   "hash": "81b3eac49bed2af9d1e3423e62e9ce98b8e2ea67c5622668d8b99c5dacf4a615"
  }
 },
 "nbformat": 4,
 "nbformat_minor": 2,
 "cells": [
  {
   "cell_type": "markdown",
   "source": [
    "# Week 4 \n",
    "This week will just be solving a couple of exercises \n",
    "Think of it as a sorta assignment to test your knowledge \n"
   ],
   "metadata": {}
  },
  {
   "cell_type": "markdown",
   "source": [
    "# Exercise 1 \n",
    "Write a short python program that will only display items from a list that have an even index \n",
    "\n",
    "For example take the list colours = [\"Red\",\"Green\",\"White\" ,\"Black\"]\n",
    "This program should only print out \"Green\" and then \"Black\""
   ],
   "metadata": {}
  },
  {
   "cell_type": "code",
   "execution_count": 12,
   "source": [
    "#Example List 1 Expected outcome -> \"Green\" and then \"Black\"\r\n",
    "list1 = [\"Red\", \"Green\", \"White\", \"Black\"]\r\n",
    "#Example List 1 Expected outcome -> \"Ford\" and then \"Toyota\" then \"Audi\"\r\n",
    "list2 = [\"BMW\", \"Ford\", \"Honda\", \"Toyota\", \"Jeep\", \"Audi\", \"Kia\"]\r\n",
    "\r\n",
    "evenIndexList1 = []\r\n",
    "for i in range(len(list1)):\r\n",
    "    if(i % 2 == 1):\r\n",
    "        evenIndexList1.append(list1[i])\r\n",
    "print(evenIndexList1)\r\n",
    "\r\n",
    "evenIndexList2 = []\r\n",
    "for i in range(len(list2)):\r\n",
    "    if(i % 2 == 1):\r\n",
    "        evenIndexList2.append(list2[i])\r\n",
    "print(evenIndexList2)\r\n"
   ],
   "outputs": [
    {
     "output_type": "stream",
     "name": "stdout",
     "text": [
      "['Green', 'Black']\n",
      "['Ford', 'Toyota', 'Audi']\n"
     ]
    }
   ],
   "metadata": {}
  },
  {
   "cell_type": "markdown",
   "source": [
    "# Exercise 2\n",
    "Write a program to calculate the sum of three different numbers\n",
    "\n",
    "if the numbers are the same then print three times their sum \n",
    "\n",
    "if two of the numbers are the same, add the two numbers together and multiply it by the third number which is different and print out the result \n",
    "\n",
    "For Example: given x = 4, y = 4 and z = 8 the number print out total = 64 ((4+4) * 8)"
   ],
   "metadata": {}
  },
  {
   "cell_type": "code",
   "execution_count": 21,
   "source": [
    "#Print out this variable \r\n",
    "total = 0\r\n",
    "print(total)\r\n",
    "\r\n",
    "#First round of numbers expected total = 64\r\n",
    "x1 = 4\r\n",
    "y1 = 4\r\n",
    "z1 = 8\r\n",
    "if(x1 == y1):\r\n",
    "    total = (x1 + y1) * z1\r\n",
    "elif(x1 == z1):\r\n",
    "    total = (z1 + z1) * y1\r\n",
    "elif(z1 == y1):\r\n",
    "    total = (z1 + y1) * x1\r\n",
    "print(total)\r\n",
    "#Second round of numbers expected total = 75\r\n",
    "x2 = 5\r\n",
    "y2 = 5\r\n",
    "z2 = 5\r\n",
    "if(x2 == y2 == z2):\r\n",
    "    total = (x2 + y2 + z2) * 3\r\n",
    "print(total)\r\n",
    "\r\n",
    "#Third round of numbers expected total = 21\r\n",
    "x3 = 9\r\n",
    "y3 = 8\r\n",
    "z3 = 4\r\n",
    "if(x3 != y3 != z3):\r\n",
    "    total = (x3 + y3 +z3)\r\n",
    "print(total)"
   ],
   "outputs": [
    {
     "output_type": "stream",
     "name": "stdout",
     "text": [
      "0\n",
      "64\n",
      "45\n",
      "21\n"
     ]
    }
   ],
   "metadata": {}
  },
  {
   "cell_type": "markdown",
   "source": [
    "# Exercise 3\n",
    "\n",
    "Write a program that detects if a specified number is found within a list, if it is found print \"Found the number:\" with the corresponding number \n",
    "\n",
    "If the number is not found print \"Could not find the number:\" with the corresponding number\n",
    "\n",
    "If the number appears more than once, print \"Removing duplicate\" and remove the duplicate number from the list\n",
    "\n",
    "For Example a list [3, 8, 10] specifiedNum = 10 will print \"Found the number: 10\"\n"
   ],
   "metadata": {}
  },
  {
   "cell_type": "code",
   "execution_count": 34,
   "source": [
    "listOfNums = [18, 29, 12, 38, 45, 31, 15, 44, 46, 30, 27, 45, 50, 1, 19, 7, 46,\t21, 1, 18, 41, 14, 19, 44, 2]\r\n",
    "# found that whenever i introduced a for loop, asnwer would print many many times\r\n",
    "#Should print \"Found the number: 31\"\r\n",
    "specifiedNum1 = 31\r\n",
    "if(specifiedNum1 in listOfNums):\r\n",
    "    print(\"Found the Number:\" , \"31\")\r\n",
    "\r\n",
    "#Should print \"Found the number: 46\" and remove the duplicate and print \"Removing the duplicate\"\r\n",
    "specifiedNum2 = 46\r\n",
    "newListOfNums = []\r\n",
    "\r\n",
    "if(specifiedNum2 in listOfNums):\r\n",
    "    print(\"Found the number: 46\")\r\n",
    "    \r\n",
    "for i in listOfNums:\r\n",
    "    if(listOfNums.count(specifiedNum2) > 1):\r\n",
    "        listOfNums.remove(specifiedNum2)\r\n",
    "print(\"Removing duplicate, listOfNums =\", listOfNums)\r\n",
    "\r\n",
    "        \r\n",
    "\r\n",
    "#Should print \"Could not find the number:\"\r\n",
    "specifiedNum3 = 17\r\n",
    "if(specifiedNum3 in listOfNums):\r\n",
    "    print(\"found the specified number\")\r\n",
    "else:\r\n",
    "    print(\"Could not find the number\")\r\n",
    "\r\n"
   ],
   "outputs": [
    {
     "output_type": "stream",
     "name": "stdout",
     "text": [
      "Found the Number: 31\n",
      "Found the number: 46\n",
      "Removing duplicate, listOfNums = [18, 29, 12, 38, 45, 31, 15, 44, 30, 27, 45, 50, 1, 19, 7, 46, 21, 1, 18, 41, 14, 19, 44, 2]\n",
      "Could not find the number\n"
     ]
    }
   ],
   "metadata": {}
  },
  {
   "cell_type": "markdown",
   "source": [
    "# Exercise 4\n",
    "\n",
    "This is a toughy \n",
    "Write a program that converts temperature either from celsius to fahrenheit or fahrenheit to celsius\n",
    "So if a celsius temperature is provided e.g \"29C\" then you would convert it to \"84.2F\"\n",
    "And if a fahrenheit temperature was provided as \"85F\" it would return \"29.444C\"\n",
    "\n",
    "A couple of hints \n",
    "Work on just getting the calculation right for both celsius and fahrenheit so remove the F or C if necessary \n",
    "\n",
    "Strings can be accessed like lists so you take it that the last item of the string will either be an F or a C you can determine if it is celsius or fahrenheit\n",
    "\n",
    "_Extra hint_ string[-1] will give you the last letter of a string "
   ],
   "metadata": {}
  },
  {
   "cell_type": "code",
   "execution_count": null,
   "source": [
    "#going to have to detect C and F at end of number, also will have to find out about casting. (research, if you put int(\"around string\") puts into maths calculation), going to have to find the last integer of a string (extra hint explains)\r\n",
    "#Expected result = 84.2F \r\n",
    "celsiusTemp1 = \"29C\"\r\n",
    "#Expected result = 89.6F \r\n",
    "celsiusTemp2 = \"34C\"\r\n",
    "#Expected result = 40C \r\n",
    "fahrenheitTemp1 = \"104F\"\r\n",
    "#Expected result = 35C\r\n",
    "fahrenheitTemp2 = \"95F\"\r\n",
    "\r\n",
    "temp = input(\"Input temperature to be converted, : 29C \")\r\n",
    "degree = str(input(temp[:-1]))\r\n",
    "i_convention = temp[:-1]\r\n",
    "\r\n",
    "if i_convention.upper() == \"C\":\r\n",
    "    result = int(round((9 * degree)/5 + 32))\r\n",
    "    o_convetion = \"Fahrenheit\"\r\n",
    "elif i_convention.upper() == \"F\":\r\n",
    "    result = int(round((degree - 32) * 5/9))\r\n",
    "    o_convetion = \"Celsius\"\r\n",
    "else:\r\n",
    "    print(\"Input proper convention.\")\r\n",
    "    quit()\r\n",
    "print(\"The temperature in\", o_convention, \"is\", result, \"degrees.\")\r\n",
    "\r\n",
    "\r\n",
    "\r\n",
    "\r\n",
    "\r\n",
    "\r\n",
    "# if feeling mike a smart boy do the fibo, as sum of past 3 numbers"
   ],
   "outputs": [
    {
     "output_type": "error",
     "ename": "Error",
     "evalue": "Session cannot generate requests",
     "traceback": [
      "Error: Session cannot generate requests",
      "at w.executeCodeCell (c:\\Users\\adamc\\.vscode\\extensions\\ms-toolsai.jupyter-2021.8.1236758218\\out\\client\\extension.js:90:327199)",
      "at w.execute (c:\\Users\\adamc\\.vscode\\extensions\\ms-toolsai.jupyter-2021.8.1236758218\\out\\client\\extension.js:90:326520)",
      "at w.start (c:\\Users\\adamc\\.vscode\\extensions\\ms-toolsai.jupyter-2021.8.1236758218\\out\\client\\extension.js:90:322336)",
      "at runMicrotasks (<anonymous>)",
      "at processTicksAndRejections (internal/process/task_queues.js:93:5)",
      "at async t.CellExecutionQueue.executeQueuedCells (c:\\Users\\adamc\\.vscode\\extensions\\ms-toolsai.jupyter-2021.8.1236758218\\out\\client\\extension.js:90:336863)",
      "at async t.CellExecutionQueue.start (c:\\Users\\adamc\\.vscode\\extensions\\ms-toolsai.jupyter-2021.8.1236758218\\out\\client\\extension.js:90:336403)"
     ]
    }
   ],
   "metadata": {}
  }
 ]
}