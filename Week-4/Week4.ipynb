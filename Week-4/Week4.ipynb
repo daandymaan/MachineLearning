{
 "metadata": {
  "language_info": {
   "codemirror_mode": {
    "name": "ipython",
    "version": 3
   },
   "file_extension": ".py",
   "mimetype": "text/x-python",
   "name": "python",
   "nbconvert_exporter": "python",
   "pygments_lexer": "ipython3",
   "version": 3
  },
  "orig_nbformat": 4
 },
 "nbformat": 4,
 "nbformat_minor": 2,
 "cells": [
  {
   "source": [
    "# Week 4 \n",
    "This week will just be solving a couple of exercises \n",
    "Think of it as a sorta assignment to test your knowledge \n"
   ],
   "cell_type": "markdown",
   "metadata": {}
  },
  {
   "source": [
    "# Exercise 1 \n",
    "Write a short python program that will only display items from a list that have an even index \n",
    "\n",
    "For example take the list colours = [\"Red\",\"Green\",\"White\" ,\"Black\"]\n",
    "This program should only print out \"Green\" and then \"Black\""
   ],
   "cell_type": "markdown",
   "metadata": {}
  },
  {
   "cell_type": "code",
   "execution_count": null,
   "metadata": {},
   "outputs": [],
   "source": [
    "#Example List 1 Expected outcome -> \"Green\" and then \"Black\"\n",
    "list1 = [\"Red\", \"Green\", \"White\", \"Black\"]\n",
    "#Example List 1 Expected outcome -> \"Ford\" and then \"Toyota\" then \"Audi\"\n",
    "list2 = [\"BMW\", \"Ford\", \"Honda\", \"Toyota\", \"Jeep\", \"Audi\", \"Kia\"]"
   ]
  },
  {
   "source": [
    "# Exercise 2\n",
    "Write a program to calculate the sum of three different numbers\n",
    "\n",
    "if the numbers are the same then print three times their sum \n",
    "\n",
    "if two of the numbers are the same, add the two numbers together and multiply it by the third number which is different and print out the result \n",
    "\n",
    "For Example: given x = 4, y = 4 and z = 8 the number print out total = 64 ((4+4) * 8)"
   ],
   "cell_type": "markdown",
   "metadata": {}
  },
  {
   "cell_type": "code",
   "execution_count": null,
   "metadata": {},
   "outputs": [],
   "source": [
    "#Print out this variable \n",
    "total = 0\n",
    "\n",
    "#First round of numbers expected total = 64\n",
    "x1 = 4\n",
    "y1 = 4\n",
    "z1 = 8\n",
    "\n",
    "#Second round of numbers expected total = 75\n",
    "x2 = 5\n",
    "y2 = 5\n",
    "z2 = 5\n",
    "\n",
    "#Third round of numbers expected total = 21\n",
    "x3 = 9\n",
    "y3 = 8\n",
    "z3 = 4\n"
   ]
  },
  {
   "source": [
    "# Exercise 3\n",
    "\n",
    "Write a program that detects if a specified number is found within a list, if it is found print \"Found the number:\" with the corresponding number \n",
    "\n",
    "If the number is not found print \"Could not find the number:\" with the corresponding number\n",
    "\n",
    "If the number appears more than once, print \"Removing duplicate\" and remove the duplicate number from the list\n",
    "\n",
    "For Example a list [3, 8, 10] specifiedNum = 10 will print \"Found the number: 10\"\n"
   ],
   "cell_type": "markdown",
   "metadata": {}
  },
  {
   "cell_type": "code",
   "execution_count": null,
   "metadata": {},
   "outputs": [],
   "source": [
    "listOfNums = [18, 29, 12, 38, 45, 31, 15, 44, 46, 30, 27, 45, 50, 1, 19, 7, 46,\t21, 1, 18, 41, 14, 19, 44, 2]\n",
    "\n",
    "#Should print \"Found the number: 31\"\n",
    "specifiedNum1 = 31\n",
    "#Should print \"Found the number: 46\" and remove the duplicate and print \"Removing the duplicate\"\n",
    "specifiedNum2 = 46\n",
    "#Should print \"Could not find the number:\"\n",
    "specifiedNum3 = 17"
   ]
  },
  {
   "source": [
    "# Exercise 4\n",
    "\n",
    "This is a toughy \n",
    "Write a program that converts temperature either from celsius to fahrenheit or fahrenheit to celsius\n",
    "So if a celsius temperature is provided e.g \"29C\" then you would convert it to \"84.2F\"\n",
    "And if a fahrenheit temperature was provided as \"85F\" it would return \"29.444C\"\n",
    "\n",
    "A couple of hints \n",
    "Work on just getting the calculation right for both celsius and fahrenheit so remove the F or C if necessary \n",
    "\n",
    "Strings can be accessed like lists so you take it that the last item of the string will either be an F or a C you can determine if it is celsius or fahrenheit\n",
    "\n",
    "_Extra hint_ string[-1] will give you the last letter of a string "
   ],
   "cell_type": "markdown",
   "metadata": {}
  },
  {
   "cell_type": "code",
   "execution_count": null,
   "metadata": {},
   "outputs": [],
   "source": [
    "#Expected result = 84.2F \n",
    "celsiusTemp1 = \"29C\"\n",
    "#Expected result = 89.6F \n",
    "celsiusTemp2 = \"34C\"\n",
    "#Expected result = 40C \n",
    "fahrenheitTemp1 = \"104F\"\n",
    "#Expected result = 35C\n",
    "fahrenheitTemp2 = \"95F\""
   ]
  }
 ]
}