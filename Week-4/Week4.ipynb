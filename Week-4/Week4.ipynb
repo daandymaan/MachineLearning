{
 "metadata": {
  "language_info": {
   "codemirror_mode": {
    "name": "ipython",
    "version": 3
   },
   "file_extension": ".py",
   "mimetype": "text/x-python",
   "name": "python",
   "nbconvert_exporter": "python",
   "pygments_lexer": "ipython3",
   "version": "3.8.8"
  },
  "orig_nbformat": 4,
  "kernelspec": {
   "name": "python3",
   "display_name": "Python 3.8.8 64-bit ('base': conda)"
  },
  "interpreter": {
   "hash": "f84231b121f6d6d8212f5c9ed90b0f54ff41e5bc407c93aebc4530b27320d376"
  }
 },
 "nbformat": 4,
 "nbformat_minor": 2,
 "cells": [
  {
   "source": [
    "# Week 4 \n",
    "This week will just be solving a couple of exercises \n",
    "Think of it as a sorta assignment to test your knowledge \n"
   ],
   "cell_type": "markdown",
   "metadata": {}
  },
  {
   "source": [
    "# Exercise 1 \n",
    "Write a short python program that will only display items from a list that have an even index \n",
    "\n",
    "For example take the list colours = [\"Red\",\"Green\",\"White\" ,\"Black\"]\n",
    "This program should only print out \"Green\" and then \"Black\""
   ],
   "cell_type": "markdown",
   "metadata": {}
  },
  {
   "cell_type": "code",
   "execution_count": 12,
   "metadata": {},
   "outputs": [
    {
     "output_type": "stream",
     "name": "stdout",
     "text": [
      "['Green', 'Black']\n['Ford', 'Toyota', 'Audi']\n"
     ]
    }
   ],
   "source": [
    "#Example List 1 Expected outcome -> \"Green\" and then \"Black\"\n",
    "list1 = [\"Red\", \"Green\", \"White\", \"Black\"]\n",
    "#Example List 1 Expected outcome -> \"Ford\" and then \"Toyota\" then \"Audi\"\n",
    "list2 = [\"BMW\", \"Ford\", \"Honda\", \"Toyota\", \"Jeep\", \"Audi\", \"Kia\"]\n",
    "\n",
    "evenIndexList1 = []\n",
    "for i in range(len(list1)):\n",
    "    if(i % 2 == 1):\n",
    "        evenIndexList1.append(list1[i])\n",
    "print(evenIndexList1)\n",
    "\n",
    "evenIndexList2 = []\n",
    "for i in range(len(list2)):\n",
    "    if(i % 2 == 1):\n",
    "        evenIndexList2.append(list2[i])\n",
    "print(evenIndexList2)\n"
   ]
  },
  {
   "source": [
    "# Exercise 2\n",
    "Write a program to calculate the sum of three different numbers\n",
    "\n",
    "if the numbers are the same then print three times their sum \n",
    "\n",
    "if two of the numbers are the same, add the two numbers together and multiply it by the third number which is different and print out the result \n",
    "\n",
    "For Example: given x = 4, y = 4 and z = 8 the number print out total = 64 ((4+4) * 8)"
   ],
   "cell_type": "markdown",
   "metadata": {}
  },
  {
   "cell_type": "code",
   "execution_count": 21,
   "metadata": {},
   "outputs": [
    {
     "output_type": "stream",
     "name": "stdout",
     "text": [
      "0\n64\n45\n21\n"
     ]
    }
   ],
   "source": [
    "#Print out this variable \n",
    "total = 0\n",
    "print(total)\n",
    "\n",
    "#First round of numbers expected total = 64\n",
    "x1 = 4\n",
    "y1 = 4\n",
    "z1 = 8\n",
    "if(x1 == y1):\n",
    "    total = (x1 + y1) * z1\n",
    "elif(x1 == z1):\n",
    "    total = (z1 + z1) * y1\n",
    "elif(z1 == y1):\n",
    "    total = (z1 + y1) * x1\n",
    "print(total)\n",
    "#Second round of numbers expected total = 75\n",
    "x2 = 5\n",
    "y2 = 5\n",
    "z2 = 5\n",
    "if(x2 == y2 == z2):\n",
    "    total = (x2 + y2 + z2) * 3\n",
    "print(total)\n",
    "\n",
    "#Third round of numbers expected total = 21\n",
    "x3 = 9\n",
    "y3 = 8\n",
    "z3 = 4\n",
    "if(x3 != y3 != z3):\n",
    "    total = (x3 + y3 +z3)\n",
    "print(total)"
   ]
  },
  {
   "source": [
    "# Exercise 3\n",
    "\n",
    "Write a program that detects if a specified number is found within a list, if it is found print \"Found the number:\" with the corresponding number \n",
    "\n",
    "If the number is not found print \"Could not find the number:\" with the corresponding number\n",
    "\n",
    "If the number appears more than once, print \"Removing duplicate\" and remove the duplicate number from the list\n",
    "\n",
    "For Example a list [3, 8, 10] specifiedNum = 10 will print \"Found the number: 10\"\n"
   ],
   "cell_type": "markdown",
   "metadata": {}
  },
  {
   "cell_type": "code",
   "execution_count": 34,
   "metadata": {},
   "outputs": [
    {
     "output_type": "stream",
     "name": "stdout",
     "text": [
      "Found the Number: 31\nFound the number: 46\nRemoving duplicate, listOfNums = [18, 29, 12, 38, 45, 31, 15, 44, 30, 27, 45, 50, 1, 19, 7, 46, 21, 1, 18, 41, 14, 19, 44, 2]\nCould not find the number\n"
     ]
    }
   ],
   "source": [
    "listOfNums = [18, 29, 12, 38, 45, 31, 15, 44, 46, 30, 27, 45, 50, 1, 19, 7, 46,\t21, 1, 18, 41, 14, 19, 44, 2]\n",
    "# found that whenever i introduced a for loop, asnwer would print many many times\n",
    "#Should print \"Found the number: 31\"\n",
    "specifiedNum1 = 31\n",
    "if(specifiedNum1 in listOfNums):\n",
    "    print(\"Found the Number:\" , \"31\")\n",
    "\n",
    "#Should print \"Found the number: 46\" and remove the duplicate and print \"Removing the duplicate\"\n",
    "specifiedNum2 = 46\n",
    "newListOfNums = []\n",
    "\n",
    "if(specifiedNum2 in listOfNums):\n",
    "    print(\"Found the number: 46\")\n",
    "    \n",
    "for i in listOfNums:\n",
    "    if(listOfNums.count(specifiedNum2) > 1):\n",
    "        listOfNums.remove(specifiedNum2)\n",
    "print(\"Removing duplicate, listOfNums =\", listOfNums)\n",
    "\n",
    "        \n",
    "\n",
    "#Should print \"Could not find the number:\"\n",
    "specifiedNum3 = 17\n",
    "if(specifiedNum3 in listOfNums):\n",
    "    print(\"found the specified number\")\n",
    "else:\n",
    "    print(\"Could not find the number\")\n",
    "\n"
   ]
  },
  {
   "source": [
    "# Exercise 4\n",
    "\n",
    "This is a toughy \n",
    "Write a program that converts temperature either from celsius to fahrenheit or fahrenheit to celsius\n",
    "So if a celsius temperature is provided e.g \"29C\" then you would convert it to \"84.2F\"\n",
    "And if a fahrenheit temperature was provided as \"85F\" it would return \"29.444C\"\n",
    "\n",
    "A couple of hints \n",
    "Work on just getting the calculation right for both celsius and fahrenheit so remove the F or C if necessary \n",
    "\n",
    "Strings can be accessed like lists so you take it that the last item of the string will either be an F or a C you can determine if it is celsius or fahrenheit\n",
    "\n",
    "_Extra hint_ string[-1] will give you the last letter of a string "
   ],
   "cell_type": "markdown",
   "metadata": {}
  },
  {
   "cell_type": "code",
   "execution_count": null,
   "metadata": {},
   "outputs": [],
   "source": [
    "#going to have to detect C and F at end of number, also will have to find out about casting. (research, if you put int(\"around string\") puts into maths calculation), going to have to find the last integer of a string (extra hint explains)\n",
    "#Expected result = 84.2F \n",
    "celsiusTemp1 = \"29C\"\n",
    "#Expected result = 89.6F \n",
    "celsiusTemp2 = \"34C\"\n",
    "#Expected result = 40C \n",
    "fahrenheitTemp1 = \"104F\"\n",
    "#Expected result = 35C\n",
    "fahrenheitTemp2 = \"95F\"\n",
    "\n",
    "# if feeling mike a smartt boy do the fibo, as sum of past 3 numbers"
   ]
  }
 ]
}