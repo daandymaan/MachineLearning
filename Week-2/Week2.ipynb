{
 "metadata": {
  "language_info": {
   "codemirror_mode": {
    "name": "ipython",
    "version": 3
   },
   "file_extension": ".py",
   "mimetype": "text/x-python",
   "name": "python",
   "nbconvert_exporter": "python",
   "pygments_lexer": "ipython3",
   "version": "3.8.8"
  },
  "orig_nbformat": 2,
  "kernelspec": {
   "name": "python3",
   "display_name": "Python 3.8.8 64-bit ('base': conda)"
  },
  "metadata": {
   "interpreter": {
    "hash": "63fd5069d213b44bf678585dea6b12cceca9941eaf7f819626cde1f2670de90d"
   }
  },
  "interpreter": {
   "hash": "f84231b121f6d6d8212f5c9ed90b0f54ff41e5bc407c93aebc4530b27320d376"
  }
 },
 "nbformat": 4,
 "nbformat_minor": 2,
 "cells": [
  {
   "source": [
    "# Week 2 Worksheet\n",
    "\n",
    "This week will be focussed on lists and loops \n",
    "\n",
    "Lists enable you to group information or variables together into one variable \n",
    "\n",
    "Loops are mainly used for cycling through lists or groups of datasets or completing a repetitive action \n"
   ],
   "cell_type": "markdown",
   "metadata": {}
  },
  {
   "cell_type": "code",
   "execution_count": 19,
   "metadata": {},
   "outputs": [
    {
     "output_type": "stream",
     "name": "stdout",
     "text": [
      "list of ints [0, 1, 2, 3, 4, 5, 6, 7]\nlist of floats [0, 1, 2, 3, 4, 5, 6, 7]\nlist of strings [0, 1, 2, 3, 4, 5, 6, 7]\nList of lists [[0, 1, 2, 3, 4, 5, 6, 7], [0.0, 1.0, 2.0, 3.0, 4.0, 5.0, 6.0, 7.0], ['one', 'two', 'three', 'four', 'five', 'six', 'seven']]\nlist of everything [0, 0.1, [0, 1, 2, 3, 4, 5, 6, 7], 'string']\n"
     ]
    }
   ],
   "source": [
    "\n",
    "\n",
    "listOfNumbers = [0, 1, 2, 3, 4, 5, 6, 7]\n",
    "#lists are always in square brackets, seperated by commas can be combinations of anuthing, floats and strings\n",
    "#Very good to gather and group large amounts of data\n",
    "print(\"list of ints\" , listOfNumbers)\n",
    "#ints = integers\n",
    "\n",
    "listOfFloats = [0.0, 1.0, 2.0, 3.0, 4.0, 5.0, 6.0, 7.0]\n",
    "print(\"list of floats\" , listOfNumbers)\n",
    "#floats are numbers containing decimal points\n",
    "\n",
    "listOfStrings = [\"one\", \"two\", \"three\", \"four\", \"five\", \"six\", \"seven\" ]\n",
    "print(\"list of strings\" , listOfNumbers)\n",
    "#strings are words/charecters\n",
    "\n",
    "listOfLists = [listOfNumbers, listOfFloats, listOfStrings]\n",
    "print(\"List of lists\", listOfLists)\n",
    "\n",
    "listOfEverything = [0, 0.1, listOfNumbers, \"string\"]\n",
    "#does not need everything to be the same data type, handy for function returns (more to come)\n",
    "print(\"list of everything\", listOfEverything)"
   ]
  },
  {
   "source": [
    "# Adding elements to a list \n",
    "\n",
    "To add an element to an already created list simply use the append command \n",
    "\n",
    "This will add the element to the end of the list\n",
    "\n",
    "You can also use the insert commnad which will add an item at a specified index"
   ],
   "cell_type": "markdown",
   "metadata": {}
  },
  {
   "source": [
    "emptyList = []\n",
    "print(emptyList)\n",
    "emptyList.append(1)\n",
    "#append, method of list adds to end of list. Each list datatype has default methods to allow its change/alteration. To check methods available type emptylist. and see 'em all\n",
    "print(emptyList)\n",
    "emptyList.append(2)\n",
    "print(emptyList)\n",
    "\n",
    "emptyList.insert(0, 45)\n",
    "#defines index of list can add to middle, end or start.\n",
    "print(emptyList)"
   ],
   "cell_type": "code",
   "metadata": {},
   "execution_count": 20,
   "outputs": [
    {
     "output_type": "stream",
     "name": "stdout",
     "text": [
      "[]\n[1]\n[1, 2]\n[45, 1, 2]\n"
     ]
    }
   ]
  },
  {
   "source": [
    "# Removing a list item \n",
    "To remove an item from a list simply use the remove command along with the item you wish to remove\n",
    "\n",
    "You can also use the pop command to remove an item at a specified index"
   ],
   "cell_type": "markdown",
   "metadata": {}
  },
  {
   "cell_type": "code",
   "execution_count": 21,
   "metadata": {},
   "outputs": [
    {
     "output_type": "stream",
     "name": "stdout",
     "text": [
      "[22, 23, 24, 25]\n[22, 23, 24]\n[23, 24]\n"
     ]
    }
   ],
   "source": [
    "fullList = [22, 23, 24, 25]\n",
    "print(fullList)\n",
    "\n",
    "fullList.remove(25)\n",
    "print(fullList)\n",
    "\n",
    "fullList.pop(0)\n",
    "#pop removes first item of list defined by index, i.e. in this case 22\n",
    "print(fullList)"
   ]
  },
  {
   "source": [
    "# Incrementing through a list \n",
    "The index of the list is the name given to where an item appears in a list \n",
    "\n",
    "This can be a little confusing \n",
    "\n",
    "The index starts at 0 and then carries on till n - 1 \n",
    "\n"
   ],
   "cell_type": "markdown",
   "metadata": {}
  },
  {
   "cell_type": "code",
   "execution_count": 22,
   "metadata": {},
   "outputs": [
    {
     "output_type": "stream",
     "name": "stdout",
     "text": [
      "First Index :0\nSecond Index :1\nThird Index :2\nList lenght: 3\n"
     ]
    }
   ],
   "source": [
    "exampleList = [\"First Index\", \"Second Index\", \"Third Index\"]\n",
    "print(exampleList[0], \":0\")\n",
    "print(exampleList[1], \":1\")\n",
    "print(exampleList[2], \":2\")\n",
    "\n",
    "# How to find the total length of a list \n",
    "print(\"List lenght:\", len(exampleList))"
   ]
  },
  {
   "source": [
    "# Different types of loops \n",
    "There is two main types of loops which are for loops and while loops \n",
    "\n",
    "For loops iterate over a range and are incremented each time the code segment ends, more commonly used\n",
    "\n",
    "While loops iterate until the condition is met, they have to be iterated **manually**\n"
   ],
   "cell_type": "markdown",
   "metadata": {}
  },
  {
   "cell_type": "code",
   "execution_count": 23,
   "metadata": {},
   "outputs": [
    {
     "output_type": "stream",
     "name": "stdout",
     "text": [
      "0\n1\n2\n3\n4\n5\n6\n7\n8\n9\n"
     ]
    }
   ],
   "source": [
    "for i in range(10):\n",
    "    print(i)\n",
    "    # for the variable i (index/increment in this case) print the number, is 1 in range of 10, yes print, is 10 in range of 10, no stop condition no longer met."
   ]
  },
  {
   "cell_type": "code",
   "execution_count": 24,
   "metadata": {
    "tags": []
   },
   "outputs": [
    {
     "output_type": "stream",
     "name": "stdout",
     "text": [
      "1\n2\n3\n4\n5\n6\n7\n8\n9\n"
     ]
    }
   ],
   "source": [
    "i = 1\n",
    "while(i != 10):\n",
    "    # ! means not equal to\n",
    "    print(i)\n",
    "    i +=1\n",
    "   \n",
    "\n",
    "   "
   ]
  },
  {
   "source": [
    "For loops are very powerful in python and allow you to do a range of functions \n",
    "Below is an example of some use cases for for loops "
   ],
   "cell_type": "markdown",
   "metadata": {}
  },
  {
   "cell_type": "code",
   "execution_count": 25,
   "metadata": {},
   "outputs": [
    {
     "output_type": "stream",
     "name": "stdout",
     "text": [
      "one\n",
      "two\n",
      "three\n",
      "four\n",
      "five\n",
      "six\n",
      "seven\n",
      "0\n",
      "one\n",
      "1\n",
      "two\n",
      "2\n",
      "three\n",
      "3\n",
      "four\n",
      "4\n",
      "five\n",
      "5\n",
      "six\n",
      "6\n",
      "seven\n"
     ]
    }
   ],
   "source": [
    "for string in listOfStrings:\n",
    "    print(string)\n",
    "\n",
    "for num in range(0, len(listOfStrings)):\n",
    "    #go from a number that starts at 0 and end when it reaches the lenght of the string, len = number of items in the string - bit more convulated, shows what len does\n",
    "    print(num)\n",
    "    #num = index and with listOfStrings prints the entries 0,6 which is one, two.... seven as listOfStrings was defined earlier\n",
    "    print(listOfStrings[num])"
   ]
  },
  {
   "source": [
    "# Exercise\n",
    "Make a segment of code which adds the previous number in the set to the current number \n",
    "\n",
    "Print the list out before and after the addition happens \n",
    "\n",
    "_hint_ You'll have to start at the second index of the list\n"
   ],
   "cell_type": "markdown",
   "metadata": {}
  },
  {
   "cell_type": "code",
   "execution_count": 26,
   "metadata": {},
   "outputs": [
    {
     "output_type": "stream",
     "name": "stdout",
     "text": [
      "17 + 5\n22\n8 + 22\n30\n19 + 30\n49\n220 + 49\n269\n35 + 269\n304\n"
     ]
    }
   ],
   "source": [
    "numberList = [5, 17, 8, 19, 220, 35]\n",
    "for i in range(1, len(numberList)):\n",
    "    print(numberList[i], \"+\", numberList[i-1])\n",
    "    total = numberList[i] + numberList[i-1]\n",
    "    print(total)\n",
    "    numberList[i]=total # now it adds to the past answers, previously was 5+17, 8+17, 8+19 ETC....\n"
   ]
  },
  {
   "source": [
    "# Exercise \n",
    "Make a segment of code which adds the current and the next number together\n",
    "\n",
    "This number is then added to a new list called sumOfOriginalList"
   ],
   "cell_type": "markdown",
   "metadata": {}
  },
  {
   "cell_type": "code",
   "execution_count": 1,
   "metadata": {},
   "outputs": [
    {
     "output_type": "stream",
     "name": "stdout",
     "text": [
      "10 + 15 + 5\n30\n15 + 25 + 10\n50\n25 + 30 + 15\n70\n"
     ]
    }
   ],
   "source": [
    "originalList = [5, 10, 15, 25, 30]\n",
    "#added -1 to stop the list at the 3rd index, last one isnt needed.\n",
    "for i in range(1, (len(originalList)-1)):\n",
    "    print(originalList[i], \"+\", originalList[i+1], \"+\", originalList[i-1])\n",
    "    sumOfOriginalList = (originalList[i] + originalList[i+1] + originalList[i-1])\n",
    "    print(sumOfOriginalList)\n",
    "    \n",
    "   \n"
   ]
  },
  {
   "cell_type": "code",
   "execution_count": null,
   "metadata": {},
   "outputs": [],
   "source": []
  }
 ]
}