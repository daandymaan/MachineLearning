{
    "cells": [
        {
            "cell_type": "markdown",
            "source": [
                "# Week 6\r\n",
                "\r\n",
                "This week will dive into classes objects and *some* object oriented principles (There is a quite a few to go over but these are stuff that you can pick up as you go along)\r\n",
                "\r\n",
                "Classes are code representations of real world objects, they have virtualise an object so it can be used repetiviely and then it is self contained with everything it needs\r\n",
                "\r\n",
                "Classes are called objects (Terms can be interchangeable)\r\n",
                "\r\n",
                "Classes have two many components, attributes and methods (Functions)\r\n"
            ],
            "metadata": {}
        },
        {
            "cell_type": "markdown",
            "source": [
                "Here is an example of a simple class of a Vehicle\r\n",
                "I would suggest playing around with this class to fully get to grips with how it works\r\n",
                "1. Try making your own instance of the class (Similiar to massey and toyota) and using some of the methods\r\n",
                "2. Try adding a new attribute (Similiar to vehicleType, brand, price, speed etc) an example could be license plate or owner\r\n",
                "3. Try adding a new method (Similiar to drive etc) an example could be service / upgrade which increases the value of the vehicle or even breakdown which drastically decreases value \r\n",
                "\r\n",
                "Just a note, classes will be especially useful for each of the apparatus needed for your experiments, each apparatus could have a class with its predefined attributes (Flow rate wattage etc)\r\n",
                "you could almost recreate the experiment virtually through python further down the line "
            ],
            "metadata": {}
        },
        {
            "cell_type": "code",
            "execution_count": 14,
            "source": [
                "#This is the definition of a class similiar to how you define a function except no brackets\r\n",
                "#CLASSES SHOULD ALWAYS START WITH A CAPTIAL\r\n",
                "class Vehicle:\r\n",
                "    #This is the init of the function, this is called the constructor, it must always contain the keyword 'self'\r\n",
                "    #These attributes are created when the object is first created\r\n",
                "    def __init__(self, vehicleType, brand, price, speed):\r\n",
                "        self.vehicleType = vehicleType\r\n",
                "        self.brand = brand\r\n",
                "        self.price = price\r\n",
                "        self.speed = speed\r\n",
                "\r\n",
                "        #This is an attribute that is not created by the user\r\n",
                "        self.distance = 0\r\n",
                "        self.fuel = 100\r\n",
                "\r\n",
                "    #Classes can also have their own specified functions (Must also contain self)\r\n",
                "    def drive(self):\r\n",
                "        print(self.brand)\r\n",
                "        if(self.fuel > 10):\r\n",
                "            print(\"~~~~~Driving~~~~~~\")\r\n",
                "            self.distance += self.speed\r\n",
                "            self.fuel -= ((self.speed * 2) * 0.1)\r\n",
                "\r\n",
                "        if(self.fuel < 10):\r\n",
                "            print(\"Car running low on fuel pls refuel\")\r\n",
                "            \r\n",
                "        if(self.distance > 100):\r\n",
                "            print(\"Driven over 100km !!\")\r\n",
                "\r\n",
                "    def refuel(self):\r\n",
                "        print(self.brand)\r\n",
                "        print(\"=====REFUELING-----\")\r\n",
                "        self.fuel = 100\r\n",
                "\r\n",
                "    def displayCarDetails(self):\r\n",
                "        print(\"\\nVEHICLE TYPE:\\t\", self.vehicleType, \"\\nBRAND:\\t\", self.brand + \"\\nPRICE:\\t\", self.price, \"\\t\\nDISTANCE TRAVELED:\\t\", self.distance, \"KM\\t\\nCURRENT FUEL:\\t\", self.fuel, \"%\\n\")\r\n",
                "        \r\n",
                "#When creating an instance of the class be sure to confirm that the values you are inputting match the ones specified in the init function \r\n",
                "toyota = Vehicle(\"Car\", \"Toyota\", 23000, 120)\r\n",
                "massey = Vehicle(\"Tractor\", \"Massey Ferguson\", 45000, 40)\r\n",
                " \r\n",
                "toyota.displayCarDetails()\r\n",
                "massey.displayCarDetails()\r\n",
                "\r\n",
                "toyota.drive()\r\n",
                "toyota.drive()\r\n",
                "massey.drive()\r\n",
                "massey.drive()\r\n",
                "\r\n",
                "toyota.displayCarDetails()\r\n",
                "massey.displayCarDetails()\r\n",
                "\r\n",
                "toyota.refuel()\r\n",
                "massey.refuel()\r\n",
                "\r\n",
                "toyota.displayCarDetails()\r\n",
                "massey.displayCarDetails()\r\n",
                "\r\n"
            ],
            "outputs": [
                {
                    "output_type": "stream",
                    "name": "stdout",
                    "text": [
                        "\n",
                        "VEHICLE TYPE:\t Car \n",
                        "BRAND:\t Toyota\n",
                        "PRICE:\t 23000 \t\n",
                        "DISTANCE TRAVELED:\t 0 KM\t\n",
                        "CURRENT FUEL:\t 100 %\n",
                        "\n",
                        "\n",
                        "VEHICLE TYPE:\t Tractor \n",
                        "BRAND:\t Massey Ferguson\n",
                        "PRICE:\t 45000 \t\n",
                        "DISTANCE TRAVELED:\t 0 KM\t\n",
                        "CURRENT FUEL:\t 100 %\n",
                        "\n",
                        "Toyota\n",
                        "~~~~~Driving~~~~~~\n",
                        "Driven over 100km !!\n",
                        "Toyota\n",
                        "~~~~~Driving~~~~~~\n",
                        "Driven over 100km !!\n",
                        "Massey Ferguson\n",
                        "~~~~~Driving~~~~~~\n",
                        "Massey Ferguson\n",
                        "~~~~~Driving~~~~~~\n",
                        "\n",
                        "VEHICLE TYPE:\t Car \n",
                        "BRAND:\t Toyota\n",
                        "PRICE:\t 23000 \t\n",
                        "DISTANCE TRAVELED:\t 240 KM\t\n",
                        "CURRENT FUEL:\t 52.0 %\n",
                        "\n",
                        "\n",
                        "VEHICLE TYPE:\t Tractor \n",
                        "BRAND:\t Massey Ferguson\n",
                        "PRICE:\t 45000 \t\n",
                        "DISTANCE TRAVELED:\t 80 KM\t\n",
                        "CURRENT FUEL:\t 84.0 %\n",
                        "\n",
                        "Toyota\n",
                        "=====REFUELING-----\n",
                        "Massey Ferguson\n",
                        "=====REFUELING-----\n",
                        "\n",
                        "VEHICLE TYPE:\t Car \n",
                        "BRAND:\t Toyota\n",
                        "PRICE:\t 23000 \t\n",
                        "DISTANCE TRAVELED:\t 240 KM\t\n",
                        "CURRENT FUEL:\t 100 %\n",
                        "\n",
                        "\n",
                        "VEHICLE TYPE:\t Tractor \n",
                        "BRAND:\t Massey Ferguson\n",
                        "PRICE:\t 45000 \t\n",
                        "DISTANCE TRAVELED:\t 80 KM\t\n",
                        "CURRENT FUEL:\t 100 %\n",
                        "\n"
                    ]
                }
            ],
            "metadata": {}
        },
        {
            "cell_type": "markdown",
            "source": [
                "Another example of classes is using inheritance, this is as it sounds just inheriting the values from a 'parent' class the best example I can show is below \r\n",
                "\r\n",
                "\r\n",
                "It will also discuss method overiding and even the default method overiding"
            ],
            "metadata": {}
        },
        {
            "cell_type": "code",
            "execution_count": 25,
            "source": [
                "class Person():\r\n",
                "    def __init__(self, name, age, profession):\r\n",
                "        self.name = name\r\n",
                "        self.age = age\r\n",
                "        self.profession = profession\r\n",
                "\r\n",
                "    def __str__(self):\r\n",
                "        return \"Hi my name is \" + self.name + \" and I am \"+ str(self.age)  + \" I work as \" +  self.profession\r\n",
                "\r\n",
                "    def speak(self):\r\n",
                "        print(\"Hi my name is \" , self.name, \" and I am \", self.age , \" I work as a\", self.profession)\r\n",
                "\r\n",
                "    def __add__(self, other):\r\n",
                "        return \"b u r r i t o \" \r\n",
                "\r\n",
                "\r\n",
                "class Doctor(Person):\r\n",
                "    def __init__(self, name, age):\r\n",
                "        self.profession = \"Doctor\"\r\n",
                "        super().__init__(name, age, self.profession)\r\n",
                "        self.salary = 72000\r\n",
                "    def showSalary(self):\r\n",
                "        print(\"SALARY:\"+ self.salary)\r\n",
                "\r\n",
                "class Student(Person):\r\n",
                "    def __init__(self, name, age, module, gradYear):\r\n",
                "        self.profession = \"Student\"\r\n",
                "        super().__init__(name, age, self.profession)\r\n",
                "        self.module = module \r\n",
                "        self.gradYear = gradYear\r\n",
                "\r\n",
                "\r\n",
                "    # This here is called method / function overidding, its very useful if you want to make ammedments to an inherited function\r\n",
                "    def speak(self):\r\n",
                "        print(\"Hi my name is \" , self.name, \" and I am student (Whatsuppp!!) and I am in \", self.module)\r\n"
            ],
            "outputs": [
                {
                    "output_type": "stream",
                    "name": "stdout",
                    "text": [
                        "Hi my name is  Davey Jones  and I am  34  I work as a Sailor\n",
                        "Hi my name is  Dr. Ralph Stones  and I am  49  I work as a Doctor\n",
                        "Hi my name is  Derek Landy  and I am student (Whatsuppp!!) and I am in  Literature\n",
                        "\n",
                        "\n",
                        "\n",
                        "\n",
                        "Hi my name is Davey Jones and I am 34 I work as Sailor\n",
                        "Hi my name is Dr. Ralph Stones and I am 49 I work as Doctor\n",
                        "Hi my name is Derek Landy and I am 19 I work as Student\n",
                        "\n",
                        "\n",
                        "\n",
                        "\n",
                        "cool\n"
                    ]
                }
            ],
            "metadata": {}
        },
        {
            "cell_type": "code",
            "execution_count": 26,
            "source": [
                "personExample = Person(\"Davey Jones\", 34, \"Sailor\")\r\n",
                "doctorExample = Doctor(\"Dr. Ralph Stones\", 49)\r\n",
                "studentExample = Student(\"Derek Landy\", 19, \"Literature\", 2024)\r\n",
                "\r\n",
                "personExample.speak()\r\n",
                "doctorExample.speak()\r\n",
                "studentExample.speak()\r\n",
                "\r\n",
                "print(\"\\n\\n\\n\")"
            ],
            "outputs": [
                {
                    "output_type": "stream",
                    "name": "stdout",
                    "text": [
                        "Hi my name is  Davey Jones  and I am  34  I work as a Sailor\n",
                        "Hi my name is  Dr. Ralph Stones  and I am  49  I work as a Doctor\n",
                        "Hi my name is  Derek Landy  and I am student (Whatsuppp!!) and I am in  Literature\n",
                        "\n",
                        "\n",
                        "\n",
                        "\n"
                    ]
                }
            ],
            "metadata": {}
        },
        {
            "cell_type": "markdown",
            "source": [
                "# Cool things \r\n",
                "If you look above you can see that we modified a few default functions, these are denoted with two underscores before the method name\r\n",
                "Default functions are actually inheritted functions from the master class which all objects inherit from \r\n",
                "You can really make fucky wucky code with modifiying these functions I wouldn't suggest doing it unless it's really neccessary\r\n",
                "The __str__ method is pretty much the only one people change just it easier "
            ],
            "metadata": {}
        },
        {
            "cell_type": "code",
            "execution_count": 27,
            "source": [
                "personList = [personExample, doctorExample, studentExample]\r\n",
                "\r\n",
                "for person in personList:\r\n",
                "    print(person)\r\n",
                "\r\n",
                "print(\"\\n\\n\\n\")\r\n",
                "\r\n",
                "print(personExample + studentExample)\r\n"
            ],
            "outputs": [
                {
                    "output_type": "stream",
                    "name": "stdout",
                    "text": [
                        "Hi my name is Davey Jones and I am 34 I work as Sailor\n",
                        "Hi my name is Dr. Ralph Stones and I am 49 I work as Doctor\n",
                        "Hi my name is Derek Landy and I am 19 I work as Student\n",
                        "\n",
                        "\n",
                        "\n",
                        "\n",
                        "cool\n"
                    ]
                }
            ],
            "metadata": {}
        },
        {
            "cell_type": "markdown",
            "source": [
                "# No exercise ... kinda\r\n",
                "No real exercise this week as this is kinda the stuff to just play around with, I could say make a school system yada yada yada but I feel this is more the week you play around with stuff create classes from some objects (Maybe fruits or drinks at a bar)\r\n",
                "\r\n",
                "Lemme know if you get stuck "
            ],
            "metadata": {}
        }
    ],
    "metadata": {
        "orig_nbformat": 4,
        "language_info": {
            "name": "python",
            "version": "3.9.1",
            "mimetype": "text/x-python",
            "codemirror_mode": {
                "name": "ipython",
                "version": 3
            },
            "pygments_lexer": "ipython3",
            "nbconvert_exporter": "python",
            "file_extension": ".py"
        },
        "kernelspec": {
            "name": "python3",
            "display_name": "Python 3.9.1 64-bit"
        },
        "interpreter": {
            "hash": "63fd5069d213b44bf678585dea6b12cceca9941eaf7f819626cde1f2670de90d"
        }
    },
    "nbformat": 4,
    "nbformat_minor": 2
}